{
 "cells": [
  {
   "cell_type": "code",
   "metadata": {
    "tags": [],
    "cell_id": "00000-0f9307f7-91bb-4ed7-b025-8d34d399ec9a",
    "deepnote_to_be_reexecuted": false,
    "source_hash": "40e70e7d",
    "execution_start": 1635935972317,
    "execution_millis": 972,
    "deepnote_cell_type": "code"
   },
   "source": "import pandas as pd\nimport re\nimport urllib.request\nimport json\nimport networkx as nx\nimport matplotlib.pyplot as plt\nimport requests\nimport os.path",
   "outputs": [],
   "execution_count": 3
  },
  {
   "cell_type": "code",
   "metadata": {
    "tags": [],
    "cell_id": "00001-43aa3769-fc81-442f-ab60-201324a62fb8",
    "deepnote_to_be_reexecuted": false,
    "source_hash": "46694df6",
    "execution_start": 1635935991616,
    "execution_millis": 5,
    "deepnote_cell_type": "code"
   },
   "source": "df_characters = pd.read_csv(\"/work/socialgraph-witcher-analysis/data/characters.csv\")\ndf_characters",
   "outputs": [
    {
     "output_type": "execute_result",
     "execution_count": 5,
     "data": {
      "application/vnd.deepnote.dataframe.v2+json": {
       "row_count": 836,
       "column_count": 2,
       "columns": [
        {
         "name": "pageid",
         "dtype": "int64",
         "stats": {
          "unique_count": 836,
          "nan_count": 0,
          "min": "1801",
          "max": "116172",
          "histogram": [
           {
            "bin_start": 1801,
            "bin_end": 13238.1,
            "count": 247
           },
           {
            "bin_start": 13238.1,
            "bin_end": 24675.2,
            "count": 102
           },
           {
            "bin_start": 24675.2,
            "bin_end": 36112.3,
            "count": 80
           },
           {
            "bin_start": 36112.3,
            "bin_end": 47549.4,
            "count": 208
           },
           {
            "bin_start": 47549.4,
            "bin_end": 58986.5,
            "count": 43
           },
           {
            "bin_start": 58986.5,
            "bin_end": 70423.6,
            "count": 22
           },
           {
            "bin_start": 70423.6,
            "bin_end": 81860.7,
            "count": 115
           },
           {
            "bin_start": 81860.7,
            "bin_end": 93297.8,
            "count": 13
           },
           {
            "bin_start": 93297.8,
            "bin_end": 104734.90000000001,
            "count": 5
           },
           {
            "bin_start": 104734.90000000001,
            "bin_end": 116172,
            "count": 1
           }
          ]
         }
        },
        {
         "name": "title",
         "dtype": "object",
         "stats": {
          "unique_count": 836,
          "nan_count": 0,
          "categories": [
           {
            "name": "Innkeeper",
            "count": 1
           },
           {
            "name": "The Witcher journal character entries",
            "count": 1
           },
           {
            "name": "834 others",
            "count": 834
           }
          ]
         }
        },
        {
         "name": "_deepnote_index_column",
         "dtype": "int64"
        }
       ],
       "rows_top": [
        {
         "pageid": 8046,
         "title": "Innkeeper",
         "_deepnote_index_column": 0
        },
        {
         "pageid": 5069,
         "title": "The Witcher journal character entries",
         "_deepnote_index_column": 1
        },
        {
         "pageid": 2478,
         "title": "Abigail",
         "_deepnote_index_column": 2
        },
        {
         "pageid": 53882,
         "title": "Adalbert (soldier)",
         "_deepnote_index_column": 3
        },
        {
         "pageid": 2210,
         "title": "Adam (Murky Waters)",
         "_deepnote_index_column": 4
        },
        {
         "pageid": 2491,
         "title": "Adda the White",
         "_deepnote_index_column": 5
        },
        {
         "pageid": 2212,
         "title": "Alina",
         "_deepnote_index_column": 6
        },
        {
         "pageid": 2216,
         "title": "Alvin",
         "_deepnote_index_column": 7
        },
        {
         "pageid": 5971,
         "title": "Andrew Gablodda",
         "_deepnote_index_column": 8
        },
        {
         "pageid": 2709,
         "title": "Angus",
         "_deepnote_index_column": 9
        },
        {
         "pageid": 4774,
         "title": "Antoinette",
         "_deepnote_index_column": 10
        },
        {
         "pageid": 6920,
         "title": "Armorer",
         "_deepnote_index_column": 11
        },
        {
         "pageid": 2487,
         "title": "Azar Javed",
         "_deepnote_index_column": 12
        },
        {
         "pageid": 2488,
         "title": "Berengar",
         "_deepnote_index_column": 13
        },
        {
         "pageid": 5075,
         "title": "Blacksmith",
         "_deepnote_index_column": 14
        },
        {
         "pageid": 7593,
         "title": "Blacksmith's son",
         "_deepnote_index_column": 15
        },
        {
         "pageid": 7595,
         "title": "Blacksmith's wife",
         "_deepnote_index_column": 16
        },
        {
         "pageid": 2230,
         "title": "Blue-eyed lass",
         "_deepnote_index_column": 17
        },
        {
         "pageid": 10264,
         "title": "Bogut Kuternoga",
         "_deepnote_index_column": 18
        },
        {
         "pageid": 9349,
         "title": "Boholt",
         "_deepnote_index_column": 19
        },
        {
         "pageid": 8545,
         "title": "Bookseller",
         "_deepnote_index_column": 20
        },
        {
         "pageid": 4333,
         "title": "Bootblack (Vizima)",
         "_deepnote_index_column": 21
        },
        {
         "pageid": 6786,
         "title": "Brickmakers",
         "_deepnote_index_column": 22
        },
        {
         "pageid": 2547,
         "title": "Brogg",
         "_deepnote_index_column": 23
        },
        {
         "pageid": 8037,
         "title": "Buse",
         "_deepnote_index_column": 24
        },
        {
         "pageid": 5973,
         "title": "Butter Bean",
         "_deepnote_index_column": 25
        },
        {
         "pageid": 2207,
         "title": "Carmen",
         "_deepnote_index_column": 26
        },
        {
         "pageid": 3776,
         "title": "Caroline",
         "_deepnote_index_column": 27
        },
        {
         "pageid": 2597,
         "title": "Celina",
         "_deepnote_index_column": 28
        },
        {
         "pageid": 3385,
         "title": "Chireadan",
         "_deepnote_index_column": 29
        },
        {
         "pageid": 5355,
         "title": "City Guard",
         "_deepnote_index_column": 30
        },
        {
         "pageid": 2602,
         "title": "Clerks",
         "_deepnote_index_column": 31
        },
        {
         "pageid": 4310,
         "title": "Coccacidium",
         "_deepnote_index_column": 32
        },
        {
         "pageid": 4476,
         "title": "Coleman",
         "_deepnote_index_column": 33
        },
        {
         "pageid": 6536,
         "title": "Con artist",
         "_deepnote_index_column": 34
        },
        {
         "pageid": 4533,
         "title": "Conrad",
         "_deepnote_index_column": 35
        },
        {
         "pageid": 8039,
         "title": "Corbin",
         "_deepnote_index_column": 36
        },
        {
         "pageid": 3778,
         "title": "Courtesans",
         "_deepnote_index_column": 37
        },
        {
         "pageid": 2403,
         "title": "Dandelion",
         "_deepnote_index_column": 38
        },
        {
         "pageid": 2483,
         "title": "Declan Leuvaarden",
         "_deepnote_index_column": 39
        },
        {
         "pageid": 8043,
         "title": "Desperate father",
         "_deepnote_index_column": 40
        },
        {
         "pageid": 8093,
         "title": "Desperate merchant",
         "_deepnote_index_column": 41
        },
        {
         "pageid": 10776,
         "title": "Distressed nurse",
         "_deepnote_index_column": 42
        },
        {
         "pageid": 5060,
         "title": "Elder druid",
         "_deepnote_index_column": 43
        },
        {
         "pageid": 8581,
         "title": "Elven convict",
         "_deepnote_index_column": 44
        },
        {
         "pageid": 7600,
         "title": "Elven craftsman",
         "_deepnote_index_column": 45
        },
        {
         "pageid": 3787,
         "title": "Elves of Murky Waters",
         "_deepnote_index_column": 46
        },
        {
         "pageid": 4763,
         "title": "Erkyn Blunt",
         "_deepnote_index_column": 47
        },
        {
         "pageid": 2801,
         "title": "Eskel",
         "_deepnote_index_column": 48
        },
        {
         "pageid": 5974,
         "title": "Fat Fred",
         "_deepnote_index_column": 49
        },
        {
         "pageid": 6607,
         "title": "Fence",
         "_deepnote_index_column": 50
        },
        {
         "pageid": 2661,
         "title": "Ferryman",
         "_deepnote_index_column": 51
        },
        {
         "pageid": 45858,
         "title": "Fisher King (lover of Lady of the Lake)",
         "_deepnote_index_column": 52
        },
        {
         "pageid": 4781,
         "title": "Fistfighters in The Witcher",
         "_deepnote_index_column": 53
        },
        {
         "pageid": 1965,
         "title": "Foltest",
         "_deepnote_index_column": 54
        },
        {
         "pageid": 39945,
         "title": "Franz Kniprode",
         "_deepnote_index_column": 55
        },
        {
         "pageid": 4647,
         "title": "Friendly vodyan priest",
         "_deepnote_index_column": 56
        },
        {
         "pageid": 3562,
         "title": "Gambling ghost",
         "_deepnote_index_column": 57
        },
        {
         "pageid": 3557,
         "title": "Gardener",
         "_deepnote_index_column": 58
        },
        {
         "pageid": 4780,
         "title": "Gellert Bleinheim",
         "_deepnote_index_column": 59
        },
        {
         "pageid": 1801,
         "title": "Geralt of Rivia",
         "_deepnote_index_column": 60
        },
        {
         "pageid": 2493,
         "title": "Golan Vivaldi",
         "_deepnote_index_column": 61
        },
        {
         "pageid": 4477,
         "title": "Gramps",
         "_deepnote_index_column": 62
        },
        {
         "pageid": 4652,
         "title": "Grandma",
         "_deepnote_index_column": 63
        },
        {
         "pageid": 38055,
         "title": "Gravedigger (Vizima)",
         "_deepnote_index_column": 64
        },
        {
         "pageid": 8465,
         "title": "Greater cockatrice",
         "_deepnote_index_column": 65
        },
        {
         "pageid": 2401,
         "title": "Half-elf",
         "_deepnote_index_column": 66
        },
        {
         "pageid": 39948,
         "title": "Halfar",
         "_deepnote_index_column": 67
        },
        {
         "pageid": 2476,
         "title": "Haren Brogg",
         "_deepnote_index_column": 68
        },
        {
         "pageid": 41050,
         "title": "Havekar",
         "_deepnote_index_column": 69
        },
        {
         "pageid": 8040,
         "title": "Headhunter (person)",
         "_deepnote_index_column": 70
        },
        {
         "pageid": 72910,
         "title": "Herbalist",
         "_deepnote_index_column": 71
        },
        {
         "pageid": 4093,
         "title": "Hermit",
         "_deepnote_index_column": 72
        },
        {
         "pageid": 2660,
         "title": "Hierophant",
         "_deepnote_index_column": 73
        },
        {
         "pageid": 3941,
         "title": "Hildegard Zollstock",
         "_deepnote_index_column": 74
        },
        {
         "pageid": 8050,
         "title": "Ida Vertz",
         "_deepnote_index_column": 75
        },
        {
         "pageid": 3859,
         "title": "Ilsa",
         "_deepnote_index_column": 76
        },
        {
         "pageid": 3495,
         "title": "Jacques de Aldersberg",
         "_deepnote_index_column": 77
        },
        {
         "pageid": 4534,
         "title": "Jean-Pierre",
         "_deepnote_index_column": 78
        },
        {
         "pageid": 6499,
         "title": "Jester",
         "_deepnote_index_column": 79
        },
        {
         "pageid": 2569,
         "title": "Jethro",
         "_deepnote_index_column": 80
        },
        {
         "pageid": 10031,
         "title": "Juan Pablo Vassermiller",
         "_deepnote_index_column": 81
        },
        {
         "pageid": 3506,
         "title": "Julian",
         "_deepnote_index_column": 82
        },
        {
         "pageid": 2486,
         "title": "Kalkstein",
         "_deepnote_index_column": 83
        },
        {
         "pageid": 2142,
         "title": "King of the Wild Hunt",
         "_deepnote_index_column": 84
        },
        {
         "pageid": 11132,
         "title": "Kingslayers",
         "_deepnote_index_column": 85
        },
        {
         "pageid": 36400,
         "title": "Kobus de Vollen",
         "_deepnote_index_column": 86
        },
        {
         "pageid": 10262,
         "title": "Kristina",
         "_deepnote_index_column": 87
        },
        {
         "pageid": 2492,
         "title": "Lady of the Lake (nymph)",
         "_deepnote_index_column": 88
        },
        {
         "pageid": 2802,
         "title": "Lambert",
         "_deepnote_index_column": 89
        },
        {
         "pageid": 2477,
         "title": "Leo",
         "_deepnote_index_column": 90
        },
        {
         "pageid": 3518,
         "title": "Lilly",
         "_deepnote_index_column": 91
        },
        {
         "pageid": 5602,
         "title": "Lowlife",
         "_deepnote_index_column": 92
        },
        {
         "pageid": 9787,
         "title": "Maggot",
         "_deepnote_index_column": 93
        },
        {
         "pageid": 5889,
         "title": "Malcolm Stein",
         "_deepnote_index_column": 94
        },
        {
         "pageid": 8049,
         "title": "Marcus Vertz",
         "_deepnote_index_column": 95
        },
        {
         "pageid": 4585,
         "title": "Mason Harn",
         "_deepnote_index_column": 96
        },
        {
         "pageid": 2550,
         "title": "Meis",
         "_deepnote_index_column": 97
        },
        {
         "pageid": 2149,
         "title": "Midday bride",
         "_deepnote_index_column": 98
        },
        {
         "pageid": 3321,
         "title": "Mikul",
         "_deepnote_index_column": 99
        },
        {
         "pageid": 10261,
         "title": "Missing creatures",
         "_deepnote_index_column": 100
        },
        {
         "pageid": 3521,
         "title": "Moa",
         "_deepnote_index_column": 101
        },
        {
         "pageid": 2577,
         "title": "Morenn",
         "_deepnote_index_column": 102
        },
        {
         "pageid": 4095,
         "title": "Munro Bruys",
         "_deepnote_index_column": 103
        },
        {
         "pageid": 4561,
         "title": "Murky Waters blacksmith",
         "_deepnote_index_column": 104
        },
        {
         "pageid": 4586,
         "title": "Murky Waters healer",
         "_deepnote_index_column": 105
        },
        {
         "pageid": 15807,
         "title": "Mysterious assassin",
         "_deepnote_index_column": 106
        },
        {
         "pageid": 7049,
         "title": "Mysterious man",
         "_deepnote_index_column": 107
        },
        {
         "pageid": 2878,
         "title": "Nadir",
         "_deepnote_index_column": 108
        },
        {
         "pageid": 99049,
         "title": "Naiad (Murky Waters lakeside)",
         "_deepnote_index_column": 109
        },
        {
         "pageid": 5755,
         "title": "Novice nun",
         "_deepnote_index_column": 110
        },
        {
         "pageid": 2485,
         "title": "Nurses",
         "_deepnote_index_column": 111
        },
        {
         "pageid": 2480,
         "title": "Odo (merchant)",
         "_deepnote_index_column": 112
        },
        {
         "pageid": 11235,
         "title": "Old brickmaker",
         "_deepnote_index_column": 113
        },
        {
         "pageid": 8052,
         "title": "Order quartermaster",
         "_deepnote_index_column": 114
        },
        {
         "pageid": 5288,
         "title": "Ori Reuven",
         "_deepnote_index_column": 115
        },
        {
         "pageid": 3860,
         "title": "Ozzrel",
         "_deepnote_index_column": 116
        },
        {
         "pageid": 7591,
         "title": "Pat",
         "_deepnote_index_column": 117
        },
        {
         "pageid": 2662,
         "title": "Patrick de Weyze",
         "_deepnote_index_column": 118
        },
        {
         "pageid": 3777,
         "title": "People of Murky Waters",
         "_deepnote_index_column": 119
        },
        {
         "pageid": 2817,
         "title": "People of the Outskirts",
         "_deepnote_index_column": 120
        },
        {
         "pageid": 4480,
         "title": "Philippa Eilhart",
         "_deepnote_index_column": 121
        },
        {
         "pageid": 3558,
         "title": "Poor townsfolk",
         "_deepnote_index_column": 122
        },
        {
         "pageid": 4723,
         "title": "Prize-winning cow",
         "_deepnote_index_column": 123
        },
        {
         "pageid": 3401,
         "title": "Professor (assassin)",
         "_deepnote_index_column": 124
        },
        {
         "pageid": 3486,
         "title": "Prostitute",
         "_deepnote_index_column": 125
        },
        {
         "pageid": 2573,
         "title": "Queen of the Night",
         "_deepnote_index_column": 126
        },
        {
         "pageid": 4789,
         "title": "Radovid V",
         "_deepnote_index_column": 127
        },
        {
         "pageid": 8038,
         "title": "Ramerot",
         "_deepnote_index_column": 128
        },
        {
         "pageid": 2570,
         "title": "Ramsmeat",
         "_deepnote_index_column": 129
        },
        {
         "pageid": 11206,
         "title": "Raven",
         "_deepnote_index_column": 130
        },
        {
         "pageid": 2490,
         "title": "Rayla",
         "_deepnote_index_column": 131
        },
        {
         "pageid": 2571,
         "title": "Raymond Maarloeve",
         "_deepnote_index_column": 132
        },
        {
         "pageid": 2664,
         "title": "Ren Grouver",
         "_deepnote_index_column": 133
        },
        {
         "pageid": 8874,
         "title": "Resolute girl",
         "_deepnote_index_column": 134
        },
        {
         "pageid": 2479,
         "title": "Reverend (Outskirts)",
         "_deepnote_index_column": 135
        },
        {
         "pageid": 5972,
         "title": "The Rock",
         "_deepnote_index_column": 136
        },
        {
         "pageid": 2572,
         "title": "Roderick de Wett",
         "_deepnote_index_column": 137
        },
        {
         "pageid": 4779,
         "title": "Roland Bleinheim",
         "_deepnote_index_column": 138
        },
        {
         "pageid": 2668,
         "title": "Royal huntsman",
         "_deepnote_index_column": 139
        },
        {
         "pageid": 31635,
         "title": "Saint Gregory",
         "_deepnote_index_column": 140
        },
        {
         "pageid": 4314,
         "title": "Savolla",
         "_deepnote_index_column": 141
        },
        {
         "pageid": 8313,
         "title": "Scoia'tael quartermaster",
         "_deepnote_index_column": 142
        },
        {
         "pageid": 2407,
         "title": "Shani",
         "_deepnote_index_column": 143
        },
        {
         "pageid": 2481,
         "title": "Siegfried of Denesle",
         "_deepnote_index_column": 144
        },
        {
         "pageid": 8051,
         "title": "Swordsmith",
         "_deepnote_index_column": 145
        },
        {
         "pageid": 3516,
         "title": "Teyu",
         "_deepnote_index_column": 146
        },
        {
         "pageid": 2482,
         "title": "Thaler (spy)",
         "_deepnote_index_column": 147
        },
        {
         "pageid": 4463,
         "title": "The Witcher merchants",
         "_deepnote_index_column": 148
        },
        {
         "pageid": 3512,
         "title": "Tobias Hoffman",
         "_deepnote_index_column": 149
        },
        {
         "pageid": 16957,
         "title": "Torch Guardian",
         "_deepnote_index_column": 150
        },
        {
         "pageid": 2437,
         "title": "Toruviel",
         "_deepnote_index_column": 151
        },
        {
         "pageid": 3290,
         "title": "Townsfolk",
         "_deepnote_index_column": 152
        },
        {
         "pageid": 8028,
         "title": "Trader",
         "_deepnote_index_column": 153
        },
        {
         "pageid": 2035,
         "title": "Triss Merigold",
         "_deepnote_index_column": 154
        },
        {
         "pageid": 3517,
         "title": "Ureus",
         "_deepnote_index_column": 155
        },
        {
         "pageid": 2576,
         "title": "Vaska",
         "_deepnote_index_column": 156
        },
        {
         "pageid": 2574,
         "title": "Velerad",
         "_deepnote_index_column": 157
        },
        {
         "pageid": 8048,
         "title": "Vertz",
         "_deepnote_index_column": 158
        },
        {
         "pageid": 2424,
         "title": "Vesemir",
         "_deepnote_index_column": 159
        },
        {
         "pageid": 2475,
         "title": "Vesna Hood",
         "_deepnote_index_column": 160
        },
        {
         "pageid": 3519,
         "title": "Vesper",
         "_deepnote_index_column": 161
        },
        {
         "pageid": 2158,
         "title": "Vetala",
         "_deepnote_index_column": 162
        },
        {
         "pageid": 2484,
         "title": "Vincent Meis",
         "_deepnote_index_column": 163
        },
        {
         "pageid": 3520,
         "title": "Voref",
         "_deepnote_index_column": 164
        },
        {
         "pageid": 6500,
         "title": "Waitresses",
         "_deepnote_index_column": 165
        },
        {
         "pageid": 2489,
         "title": "Yaevinn",
         "_deepnote_index_column": 166
        },
        {
         "pageid": 66782,
         "title": "Yamo Ryeboozer",
         "_deepnote_index_column": 167
        },
        {
         "pageid": 4504,
         "title": "Yaren Bolt",
         "_deepnote_index_column": 168
        },
        {
         "pageid": 4502,
         "title": "Zahin Schmartz",
         "_deepnote_index_column": 169
        },
        {
         "pageid": 5975,
         "title": "Zdenek",
         "_deepnote_index_column": 170
        },
        {
         "pageid": 4032,
         "title": "Zephyr",
         "_deepnote_index_column": 171
        },
        {
         "pageid": 2408,
         "title": "Zoltan Chivay",
         "_deepnote_index_column": 172
        },
        {
         "pageid": 14238,
         "title": "The Witcher 2 merchants",
         "_deepnote_index_column": 173
        },
        {
         "pageid": 35920,
         "title": "Abelard of Hagge",
         "_deepnote_index_column": 174
        },
        {
         "pageid": 16759,
         "title": "Adalbert (Nilfgaardian sorcerer)",
         "_deepnote_index_column": 175
        },
        {
         "pageid": 9584,
         "title": "Adam Pangratt",
         "_deepnote_index_column": 176
        },
        {
         "pageid": 16120,
         "title": "Adrianna",
         "_deepnote_index_column": 177
        },
        {
         "pageid": 16811,
         "title": "Aep Dearhenna",
         "_deepnote_index_column": 178
        },
        {
         "pageid": 35912,
         "title": "Allgood",
         "_deepnote_index_column": 179
        },
        {
         "pageid": 9775,
         "title": "Anais La Valette",
         "_deepnote_index_column": 180
        },
        {
         "pageid": 12799,
         "title": "Anezka",
         "_deepnote_index_column": 181
        },
        {
         "pageid": 40362,
         "title": "Anselm of Aedirn",
         "_deepnote_index_column": 182
        },
        {
         "pageid": 98046,
         "title": "Archpriest (Monastery)",
         "_deepnote_index_column": 183
        },
        {
         "pageid": 72260,
         "title": "Arnesse",
         "_deepnote_index_column": 184
        },
        {
         "pageid": 15321,
         "title": "Arnolt Malliger",
         "_deepnote_index_column": 185
        },
        {
         "pageid": 72247,
         "title": "Arseleta",
         "_deepnote_index_column": 186
        },
        {
         "pageid": 3669,
         "title": "Arthur Tailles",
         "_deepnote_index_column": 187
        },
        {
         "pageid": 11789,
         "title": "Aryan La Valette",
         "_deepnote_index_column": 188
        },
        {
         "pageid": 4833,
         "title": "Assire var Anahid",
         "_deepnote_index_column": 189
        },
        {
         "pageid": 13262,
         "title": "Auckes",
         "_deepnote_index_column": 190
        },
        {
         "pageid": 12990,
         "title": "Baltimore",
         "_deepnote_index_column": 191
        },
        {
         "pageid": 15306,
         "title": "Bartholomew Bargee",
         "_deepnote_index_column": 192
        },
        {
         "pageid": 11795,
         "title": "Bernard Loredo",
         "_deepnote_index_column": 193
        },
        {
         "pageid": 14728,
         "title": "Berthold Candeleria",
         "_deepnote_index_column": 194
        },
        {
         "pageid": 72245,
         "title": "Big Bust Miriam",
         "_deepnote_index_column": 195
        },
        {
         "pageid": 72242,
         "title": "Birdie",
         "_deepnote_index_column": 196
        },
        {
         "pageid": 16096,
         "title": "Bolton of Ironford",
         "_deepnote_index_column": 197
        },
        {
         "pageid": 9774,
         "title": "Boussy La Valette",
         "_deepnote_index_column": 198
        },
        {
         "pageid": 12993,
         "title": "Bras of Ban Ard",
         "_deepnote_index_column": 199
        },
        {
         "pageid": 16706,
         "title": "Brigida Papebrock",
         "_deepnote_index_column": 200
        },
        {
         "pageid": 16331,
         "title": "Burton",
         "_deepnote_index_column": 201
        },
        {
         "pageid": 9342,
         "title": "Carduin",
         "_deepnote_index_column": 202
        },
        {
         "pageid": 12550,
         "title": "Cecil Burdon",
         "_deepnote_index_column": 203
        },
        {
         "pageid": 12420,
         "title": "Cedric (elf)",
         "_deepnote_index_column": 204
        },
        {
         "pageid": 12445,
         "title": "Chorab",
         "_deepnote_index_column": 205
        },
        {
         "pageid": 13006,
         "title": "Ciaran aep Easnillen",
         "_deepnote_index_column": 206
        },
        {
         "pageid": 15255,
         "title": "Clovisse Merse",
         "_deepnote_index_column": 207
        },
        {
         "pageid": 37172,
         "title": "Count Felart",
         "_deepnote_index_column": 208
        },
        {
         "pageid": 14903,
         "title": "Count Tybalt (knight)",
         "_deepnote_index_column": 209
        },
        {
         "pageid": 14233,
         "title": "Craftsman",
         "_deepnote_index_column": 210
        },
        {
         "pageid": 9025,
         "title": "Crinfrid Reavers",
         "_deepnote_index_column": 211
        },
        {
         "pageid": 12886,
         "title": "Cynthia",
         "_deepnote_index_column": 212
        },
        {
         "pageid": 35976,
         "title": "Dagonet",
         "_deepnote_index_column": 213
        },
        {
         "pageid": 16496,
         "title": "Dalum",
         "_deepnote_index_column": 214
        },
        {
         "pageid": 7587,
         "title": "Demavend III",
         "_deepnote_index_column": 215
        },
        {
         "pageid": 12820,
         "title": "Derae",
         "_deepnote_index_column": 216
        },
        {
         "pageid": 9571,
         "title": "Detmold",
         "_deepnote_index_column": 217
        },
        {
         "pageid": 13076,
         "title": "Dmitri",
         "_deepnote_index_column": 218
        },
        {
         "pageid": 16117,
         "title": "Dragan",
         "_deepnote_index_column": 219
        },
        {
         "pageid": 12913,
         "title": "Earso",
         "_deepnote_index_column": 220
        },
        {
         "pageid": 13640,
         "title": "Edwin Leistham",
         "_deepnote_index_column": 221
        },
        {
         "pageid": 12415,
         "title": "Einar Gausel",
         "_deepnote_index_column": 222
        },
        {
         "pageid": 103230,
         "title": "Ekhart Henessy",
         "_deepnote_index_column": 223
        },
        {
         "pageid": 13260,
         "title": "Ele'yas",
         "_deepnote_index_column": 224
        },
        {
         "pageid": 15462,
         "title": "Elthon",
         "_deepnote_index_column": 225
        },
        {
         "pageid": 15429,
         "title": "Elven prisoner",
         "_deepnote_index_column": 226
        },
        {
         "pageid": 15239,
         "title": "Enzo Etcheverry",
         "_deepnote_index_column": 227
        },
        {
         "pageid": 9796,
         "title": "Eredin Breacc Glas",
         "_deepnote_index_column": 228
        },
        {
         "pageid": 12818,
         "title": "Falas",
         "_deepnote_index_column": 229
        },
        {
         "pageid": 16876,
         "title": "Farid",
         "_deepnote_index_column": 230
        },
        {
         "pageid": 14344,
         "title": "Felicia Cori",
         "_deepnote_index_column": 231
        },
        {
         "pageid": 41267,
         "title": "Felix Favela",
         "_deepnote_index_column": 232
        },
        {
         "pageid": 15874,
         "title": "Fenn (commando)",
         "_deepnote_index_column": 233
        },
        {
         "pageid": 16062,
         "title": "Finch",
         "_deepnote_index_column": 234
        },
        {
         "pageid": 12408,
         "title": "Fioravanti",
         "_deepnote_index_column": 235
        },
        {
         "pageid": 44184,
         "title": "Gar",
         "_deepnote_index_column": 236
        },
        {
         "pageid": 16875,
         "title": "Gaspar",
         "_deepnote_index_column": 237
        },
        {
         "pageid": 15948,
         "title": "Gavrilo",
         "_deepnote_index_column": 238
        },
        {
         "pageid": 14497,
         "title": "Gridley",
         "_deepnote_index_column": 239
        },
        {
         "pageid": 16770,
         "title": "Guard (mage)",
         "_deepnote_index_column": 240
        },
        {
         "pageid": 37287,
         "title": "Gus of Tretogor",
         "_deepnote_index_column": 241
        },
        {
         "pageid": 15357,
         "title": "Haggard",
         "_deepnote_index_column": 242
        },
        {
         "pageid": 16118,
         "title": "Harald Gord",
         "_deepnote_index_column": 243
        },
        {
         "pageid": 35974,
         "title": "Harmond",
         "_deepnote_index_column": 244
        },
        {
         "pageid": 5201,
         "title": "Henselt",
         "_deepnote_index_column": 245
        },
        {
         "pageid": 35747,
         "title": "Hieronymus Lash",
         "_deepnote_index_column": 246
        },
        {
         "pageid": 35916,
         "title": "Himsbach",
         "_deepnote_index_column": 247
        },
        {
         "pageid": 15915,
         "title": "Igo",
         "_deepnote_index_column": 248
        },
        {
         "pageid": 16079,
         "title": "Igor Vivaldi",
         "_deepnote_index_column": 249
        }
       ],
       "rows_bottom": [
        {
         "pageid": 27329,
         "title": "John Geermer",
         "_deepnote_index_column": 586
        },
        {
         "pageid": 29147,
         "title": "John Verdun",
         "_deepnote_index_column": 587
        },
        {
         "pageid": 20844,
         "title": "Johnny",
         "_deepnote_index_column": 588
        },
        {
         "pageid": 43899,
         "title": "Jonah",
         "_deepnote_index_column": 589
        },
        {
         "pageid": 38804,
         "title": "Jonas the Innkeep",
         "_deepnote_index_column": 590
        },
        {
         "pageid": 72148,
         "title": "Jonna",
         "_deepnote_index_column": 591
        },
        {
         "pageid": 41393,
         "title": "Jorulf the Wolverine",
         "_deepnote_index_column": 592
        },
        {
         "pageid": 40241,
         "title": "Josta",
         "_deepnote_index_column": 593
        },
        {
         "pageid": 37404,
         "title": "Jouke",
         "_deepnote_index_column": 594
        },
        {
         "pageid": 56815,
         "title": "Jutta an Dimun",
         "_deepnote_index_column": 595
        },
        {
         "pageid": 72950,
         "title": "Karli",
         "_deepnote_index_column": 596
        },
        {
         "pageid": 4831,
         "title": "Keira Metz",
         "_deepnote_index_column": 597
        },
        {
         "pageid": 29325,
         "title": "King of the Wolves (creature)",
         "_deepnote_index_column": 598
        },
        {
         "pageid": 21955,
         "title": "Kiyan",
         "_deepnote_index_column": 599
        },
        {
         "pageid": 79609,
         "title": "Kluhg",
         "_deepnote_index_column": 600
        },
        {
         "pageid": 74525,
         "title": "Kobe",
         "_deepnote_index_column": 601
        },
        {
         "pageid": 73058,
         "title": "Kori",
         "_deepnote_index_column": 602
        },
        {
         "pageid": 73061,
         "title": "Kraki",
         "_deepnote_index_column": 603
        },
        {
         "pageid": 40238,
         "title": "Kurisu",
         "_deepnote_index_column": 604
        },
        {
         "pageid": 37536,
         "title": "Kurt (witch hunter)",
         "_deepnote_index_column": 605
        },
        {
         "pageid": 24476,
         "title": "Kurt Dysart",
         "_deepnote_index_column": 606
        },
        {
         "pageid": 51311,
         "title": "La Valette Guard Captain",
         "_deepnote_index_column": 607
        },
        {
         "pageid": 73067,
         "title": "Leif",
         "_deepnote_index_column": 608
        },
        {
         "pageid": 74531,
         "title": "Lena",
         "_deepnote_index_column": 609
        },
        {
         "pageid": 41941,
         "title": "Leslav",
         "_deepnote_index_column": 610
        },
        {
         "pageid": 43314,
         "title": "Lessy",
         "_deepnote_index_column": 611
        },
        {
         "pageid": 79909,
         "title": "Liesje",
         "_deepnote_index_column": 612
        },
        {
         "pageid": 51500,
         "title": "Little Red (bandit)",
         "_deepnote_index_column": 613
        },
        {
         "pageid": 71637,
         "title": "Loan Shark",
         "_deepnote_index_column": 614
        },
        {
         "pageid": 75635,
         "title": "Lodrin",
         "_deepnote_index_column": 615
        },
        {
         "pageid": 72151,
         "title": "Lothar (Tjalve's father)",
         "_deepnote_index_column": 616
        },
        {
         "pageid": 43469,
         "title": "Louis (bandit)",
         "_deepnote_index_column": 617
        },
        {
         "pageid": 34772,
         "title": "Luc Vegelbud",
         "_deepnote_index_column": 618
        },
        {
         "pageid": 74527,
         "title": "Lucas",
         "_deepnote_index_column": 619
        },
        {
         "pageid": 41391,
         "title": "Lugos Drummond (Blueboy)",
         "_deepnote_index_column": 620
        },
        {
         "pageid": 31468,
         "title": "Lugos Drummond (Madman)",
         "_deepnote_index_column": 621
        },
        {
         "pageid": 28490,
         "title": "Lund",
         "_deepnote_index_column": 622
        },
        {
         "pageid": 43478,
         "title": "Lussi",
         "_deepnote_index_column": 623
        },
        {
         "pageid": 38572,
         "title": "Lyffned",
         "_deepnote_index_column": 624
        },
        {
         "pageid": 37451,
         "title": "Madame (Crippled Kate's)",
         "_deepnote_index_column": 625
        },
        {
         "pageid": 72735,
         "title": "Mandy",
         "_deepnote_index_column": 626
        },
        {
         "pageid": 41880,
         "title": "Manfred (merchant)",
         "_deepnote_index_column": 627
        },
        {
         "pageid": 30916,
         "title": "Manfred Grossbart",
         "_deepnote_index_column": 628
        },
        {
         "pageid": 41137,
         "title": "Marabella",
         "_deepnote_index_column": 629
        },
        {
         "pageid": 29578,
         "title": "Marcus T.K. Hodgson",
         "_deepnote_index_column": 630
        },
        {
         "pageid": 4830,
         "title": "Margarita Laux-Antille",
         "_deepnote_index_column": 631
        },
        {
         "pageid": 34346,
         "title": "Margrit",
         "_deepnote_index_column": 632
        },
        {
         "pageid": 45984,
         "title": "Marica",
         "_deepnote_index_column": 633
        },
        {
         "pageid": 85906,
         "title": "Marius Florin",
         "_deepnote_index_column": 634
        },
        {
         "pageid": 32140,
         "title": "Marquise Serenity",
         "_deepnote_index_column": 635
        },
        {
         "pageid": 74404,
         "title": "Master Claytop",
         "_deepnote_index_column": 636
        },
        {
         "pageid": 51768,
         "title": "Mathios",
         "_deepnote_index_column": 637
        },
        {
         "pageid": 73045,
         "title": "Maxim Boliere",
         "_deepnote_index_column": 638
        },
        {
         "pageid": 85811,
         "title": "Medic (Novigrad Docks)",
         "_deepnote_index_column": 639
        },
        {
         "pageid": 85809,
         "title": "Medic (Oxenfurt Morgue)",
         "_deepnote_index_column": 640
        },
        {
         "pageid": 72105,
         "title": "Merchant (Ard Skellig sawmill)",
         "_deepnote_index_column": 641
        },
        {
         "pageid": 43902,
         "title": "Merchant (Blackbough)",
         "_deepnote_index_column": 642
        },
        {
         "pageid": 72847,
         "title": "Merchant (Blandare)",
         "_deepnote_index_column": 643
        },
        {
         "pageid": 44047,
         "title": "Merchant (Boatmakers' Hut)",
         "_deepnote_index_column": 644
        },
        {
         "pageid": 71333,
         "title": "Merchant (boatyard)",
         "_deepnote_index_column": 645
        },
        {
         "pageid": 77879,
         "title": "Merchant (Border Post)",
         "_deepnote_index_column": 646
        },
        {
         "pageid": 36157,
         "title": "Merchant (Calveit Watchtower)",
         "_deepnote_index_column": 647
        },
        {
         "pageid": 72498,
         "title": "Merchant (campsite)",
         "_deepnote_index_column": 648
        },
        {
         "pageid": 51218,
         "title": "Merchant (Claywich)",
         "_deepnote_index_column": 649
        },
        {
         "pageid": 39247,
         "title": "Merchant (Downwarren)",
         "_deepnote_index_column": 650
        },
        {
         "pageid": 44041,
         "title": "Merchant (Fayrlund)",
         "_deepnote_index_column": 651
        },
        {
         "pageid": 43075,
         "title": "Merchant (Fish Market)",
         "_deepnote_index_column": 652
        },
        {
         "pageid": 72600,
         "title": "Merchant (fishmonger)",
         "_deepnote_index_column": 653
        },
        {
         "pageid": 72803,
         "title": "Merchant (Fyresdal)",
         "_deepnote_index_column": 654
        },
        {
         "pageid": 42563,
         "title": "Merchant (Gildorf)",
         "_deepnote_index_column": 655
        },
        {
         "pageid": 72880,
         "title": "Merchant (halfling)",
         "_deepnote_index_column": 656
        },
        {
         "pageid": 72450,
         "title": "Merchant (Harviken)",
         "_deepnote_index_column": 657
        },
        {
         "pageid": 72808,
         "title": "Merchant (Hierarch Square)",
         "_deepnote_index_column": 658
        },
        {
         "pageid": 72868,
         "title": "Merchant (Holmstein's Port)",
         "_deepnote_index_column": 659
        },
        {
         "pageid": 41350,
         "title": "Merchant (Isolated Hut)",
         "_deepnote_index_column": 660
        },
        {
         "pageid": 72875,
         "title": "Merchant (Kaer Trolde Harbor)",
         "_deepnote_index_column": 661
        },
        {
         "pageid": 72850,
         "title": "Merchant (Larvik)",
         "_deepnote_index_column": 662
        },
        {
         "pageid": 40018,
         "title": "Merchant (Lindenvale)",
         "_deepnote_index_column": 663
        },
        {
         "pageid": 42861,
         "title": "Merchant (Midcopse)",
         "_deepnote_index_column": 664
        },
        {
         "pageid": 76075,
         "title": "Merchant (Nilfgaardian Army Group 'Center' Camp)",
         "_deepnote_index_column": 665
        },
        {
         "pageid": 72267,
         "title": "Merchant (Oreton)",
         "_deepnote_index_column": 666
        },
        {
         "pageid": 72719,
         "title": "Merchant (Oxenfurt)",
         "_deepnote_index_column": 667
        },
        {
         "pageid": 72573,
         "title": "Merchant (Putrid Grove)",
         "_deepnote_index_column": 668
        },
        {
         "pageid": 41186,
         "title": "Merchant (Scoia'tael)",
         "_deepnote_index_column": 669
        },
        {
         "pageid": 72877,
         "title": "Merchant (Silverton docks)",
         "_deepnote_index_column": 670
        },
        {
         "pageid": 72603,
         "title": "Merchant (Silverton)",
         "_deepnote_index_column": 671
        },
        {
         "pageid": 72852,
         "title": "Merchant (Svorlag)",
         "_deepnote_index_column": 672
        },
        {
         "pageid": 72597,
         "title": "Merchant (The Bits)",
         "_deepnote_index_column": 673
        },
        {
         "pageid": 72490,
         "title": "Merchant (Tretogor Gate)",
         "_deepnote_index_column": 674
        },
        {
         "pageid": 73981,
         "title": "Merchant (White Orchard sawmill)",
         "_deepnote_index_column": 675
        },
        {
         "pageid": 29905,
         "title": "The Witcher 3 merchants",
         "_deepnote_index_column": 676
        },
        {
         "pageid": 50698,
         "title": "Mercia",
         "_deepnote_index_column": 677
        },
        {
         "pageid": 38907,
         "title": "Mererid",
         "_deepnote_index_column": 678
        },
        {
         "pageid": 38631,
         "title": "Mikah",
         "_deepnote_index_column": 679
        },
        {
         "pageid": 72212,
         "title": "Mikkel (Skelliger)",
         "_deepnote_index_column": 680
        },
        {
         "pageid": 42832,
         "title": "Mikkjal",
         "_deepnote_index_column": 681
        },
        {
         "pageid": 44004,
         "title": "Mikula (orphan)",
         "_deepnote_index_column": 682
        },
        {
         "pageid": 42949,
         "title": "Milan Noran",
         "_deepnote_index_column": 683
        },
        {
         "pageid": 43513,
         "title": "Millie",
         "_deepnote_index_column": 684
        },
        {
         "pageid": 38642,
         "title": "Mislav",
         "_deepnote_index_column": 685
        },
        {
         "pageid": 51313,
         "title": "Molly",
         "_deepnote_index_column": 686
        },
        {
         "pageid": 31459,
         "title": "Moreelse",
         "_deepnote_index_column": 687
        },
        {
         "pageid": 42942,
         "title": "Moritz Diefenthel",
         "_deepnote_index_column": 688
        },
        {
         "pageid": 40516,
         "title": "Morkvarg",
         "_deepnote_index_column": 689
        },
        {
         "pageid": 9390,
         "title": "Morvran Voorhis",
         "_deepnote_index_column": 690
        },
        {
         "pageid": 3575,
         "title": "Mousesack",
         "_deepnote_index_column": 691
        },
        {
         "pageid": 78496,
         "title": "Moving merchant",
         "_deepnote_index_column": 692
        },
        {
         "pageid": 57571,
         "title": "Napp",
         "_deepnote_index_column": 693
        },
        {
         "pageid": 72272,
         "title": "Narcissa",
         "_deepnote_index_column": 694
        },
        {
         "pageid": 31215,
         "title": "Nathaniel Pastodi",
         "_deepnote_index_column": 695
        },
        {
         "pageid": 78877,
         "title": "Nidas",
         "_deepnote_index_column": 696
        },
        {
         "pageid": 34348,
         "title": "Niellen",
         "_deepnote_index_column": 697
        },
        {
         "pageid": 36273,
         "title": "Nikolas Friedman",
         "_deepnote_index_column": 698
        },
        {
         "pageid": 38787,
         "title": "Nilfgaardian Nobleman (Royal Palace at Vizima)",
         "_deepnote_index_column": 699
        },
        {
         "pageid": 73109,
         "title": "Nissa",
         "_deepnote_index_column": 700
        },
        {
         "pageid": 23372,
         "title": "Nithral",
         "_deepnote_index_column": 701
        },
        {
         "pageid": 44044,
         "title": "Odhen",
         "_deepnote_index_column": 702
        },
        {
         "pageid": 42682,
         "title": "Odolan",
         "_deepnote_index_column": 703
        },
        {
         "pageid": 40202,
         "title": "Ogg, Pogg and Rogg",
         "_deepnote_index_column": 704
        },
        {
         "pageid": 52685,
         "title": "Olaf (bear)",
         "_deepnote_index_column": 705
        },
        {
         "pageid": 51517,
         "title": "Olaf (guardsman)",
         "_deepnote_index_column": 706
        },
        {
         "pageid": 41687,
         "title": "Old Sage",
         "_deepnote_index_column": 707
        },
        {
         "pageid": 76160,
         "title": "Old Woman (White Orchard)",
         "_deepnote_index_column": 708
        },
        {
         "pageid": 53725,
         "title": "Ole-Kristian",
         "_deepnote_index_column": 709
        },
        {
         "pageid": 41793,
         "title": "Olivier",
         "_deepnote_index_column": 710
        },
        {
         "pageid": 43998,
         "title": "Orphans",
         "_deepnote_index_column": 711
        },
        {
         "pageid": 60665,
         "title": "Oswin",
         "_deepnote_index_column": 712
        },
        {
         "pageid": 42382,
         "title": "Otrygg an Hindar",
         "_deepnote_index_column": 713
        },
        {
         "pageid": 67034,
         "title": "Otto Bamber",
         "_deepnote_index_column": 714
        },
        {
         "pageid": 34775,
         "title": "Patricia Vegelbud",
         "_deepnote_index_column": 715
        },
        {
         "pageid": 38147,
         "title": "Patrick Hazelnutt",
         "_deepnote_index_column": 716
        },
        {
         "pageid": 27137,
         "title": "Peter Saar Gwynleve",
         "_deepnote_index_column": 717
        },
        {
         "pageid": 76346,
         "title": "Petter",
         "_deepnote_index_column": 718
        },
        {
         "pageid": 20605,
         "title": "Phillip Strenger",
         "_deepnote_index_column": 719
        },
        {
         "pageid": 52274,
         "title": "Piet",
         "_deepnote_index_column": 720
        },
        {
         "pageid": 79610,
         "title": "Polly",
         "_deepnote_index_column": 721
        },
        {
         "pageid": 84322,
         "title": "Porter (Putrid Grove)",
         "_deepnote_index_column": 722
        },
        {
         "pageid": 40248,
         "title": "Preacher (Temple Isle)",
         "_deepnote_index_column": 723
        },
        {
         "pageid": 43447,
         "title": "Preben",
         "_deepnote_index_column": 724
        },
        {
         "pageid": 38176,
         "title": "Princess (goat)",
         "_deepnote_index_column": 725
        },
        {
         "pageid": 21069,
         "title": "Priscilla",
         "_deepnote_index_column": 726
        },
        {
         "pageid": 37889,
         "title": "Prison Warden",
         "_deepnote_index_column": 727
        },
        {
         "pageid": 51453,
         "title": "Quartermaster (Crow's Perch)",
         "_deepnote_index_column": 728
        },
        {
         "pageid": 39076,
         "title": "Quartermaster (Nilfgaardian Garrison)",
         "_deepnote_index_column": 729
        },
        {
         "pageid": 43280,
         "title": "Radko",
         "_deepnote_index_column": 730
        },
        {
         "pageid": 38314,
         "title": "Ravik",
         "_deepnote_index_column": 731
        },
        {
         "pageid": 44151,
         "title": "Refugee (Benek)",
         "_deepnote_index_column": 732
        },
        {
         "pageid": 37549,
         "title": "Remi Villeroy",
         "_deepnote_index_column": 733
        },
        {
         "pageid": 69558,
         "title": "Rhosyn",
         "_deepnote_index_column": 734
        },
        {
         "pageid": 84319,
         "title": "Rico Meiersdorf",
         "_deepnote_index_column": 735
        },
        {
         "pageid": 43296,
         "title": "Ronvid of the Small Marsh",
         "_deepnote_index_column": 736
        },
        {
         "pageid": 36313,
         "title": "Rosa var Attre",
         "_deepnote_index_column": 737
        },
        {
         "pageid": 43526,
         "title": "Rostan Muggs",
         "_deepnote_index_column": 738
        },
        {
         "pageid": 52335,
         "title": "Ruar",
         "_deepnote_index_column": 739
        },
        {
         "pageid": 35456,
         "title": "Rudolf de Jonkheer",
         "_deepnote_index_column": 740
        },
        {
         "pageid": 30922,
         "title": "Rufus",
         "_deepnote_index_column": 741
        },
        {
         "pageid": 51335,
         "title": "Rurik",
         "_deepnote_index_column": 742
        },
        {
         "pageid": 21889,
         "title": "Salma",
         "_deepnote_index_column": 743
        },
        {
         "pageid": 43172,
         "title": "Sarah",
         "_deepnote_index_column": 744
        },
        {
         "pageid": 43901,
         "title": "Sergeant Ardal",
         "_deepnote_index_column": 745
        },
        {
         "pageid": 43330,
         "title": "Shady merchant",
         "_deepnote_index_column": 746
        },
        {
         "pageid": 7586,
         "title": "Sigismund Dijkstra",
         "_deepnote_index_column": 747
        },
        {
         "pageid": 31111,
         "title": "Sigo Buntz",
         "_deepnote_index_column": 748
        },
        {
         "pageid": 41330,
         "title": "Sigurd",
         "_deepnote_index_column": 749
        },
        {
         "pageid": 44409,
         "title": "Simun Brambling",
         "_deepnote_index_column": 750
        },
        {
         "pageid": 44431,
         "title": "Sjusta",
         "_deepnote_index_column": 751
        },
        {
         "pageid": 28435,
         "title": "Skjall",
         "_deepnote_index_column": 752
        },
        {
         "pageid": 41342,
         "title": "Smith (Fyresdal)",
         "_deepnote_index_column": 753
        },
        {
         "pageid": 41347,
         "title": "Smith (Kaer Muire)",
         "_deepnote_index_column": 754
        },
        {
         "pageid": 41366,
         "title": "Smith (Svorlag)",
         "_deepnote_index_column": 755
        },
        {
         "pageid": 43897,
         "title": "Smithy",
         "_deepnote_index_column": 756
        },
        {
         "pageid": 73126,
         "title": "Sofus the Bull",
         "_deepnote_index_column": 757
        },
        {
         "pageid": 42550,
         "title": "Stan Fishgulper",
         "_deepnote_index_column": 758
        },
        {
         "pageid": 43678,
         "title": "Steingrim",
         "_deepnote_index_column": 759
        },
        {
         "pageid": 32137,
         "title": "Stjepan",
         "_deepnote_index_column": 760
        },
        {
         "pageid": 43282,
         "title": "Stuttering Mattko",
         "_deepnote_index_column": 761
        },
        {
         "pageid": 40628,
         "title": "Succubus (Ard Skellig)",
         "_deepnote_index_column": 762
        },
        {
         "pageid": 83516,
         "title": "Sukrus",
         "_deepnote_index_column": 763
        },
        {
         "pageid": 43918,
         "title": "Survivor (Heatherton)",
         "_deepnote_index_column": 764
        },
        {
         "pageid": 50702,
         "title": "Suzy",
         "_deepnote_index_column": 765
        },
        {
         "pageid": 70388,
         "title": "Svana",
         "_deepnote_index_column": 766
        },
        {
         "pageid": 24914,
         "title": "Svanrige Tuirseach",
         "_deepnote_index_column": 767
        },
        {
         "pageid": 40231,
         "title": "Sven (Fayrlund)",
         "_deepnote_index_column": 768
        },
        {
         "pageid": 43779,
         "title": "Sverre",
         "_deepnote_index_column": 769
        },
        {
         "pageid": 37455,
         "title": "Sweet Nettie",
         "_deepnote_index_column": 770
        },
        {
         "pageid": 38354,
         "title": "Swordsmith (Mulbrydale)",
         "_deepnote_index_column": 771
        },
        {
         "pageid": 38051,
         "title": "Sylvester Amello",
         "_deepnote_index_column": 772
        },
        {
         "pageid": 44021,
         "title": "Symko",
         "_deepnote_index_column": 773
        },
        {
         "pageid": 28090,
         "title": "Tamara Strenger",
         "_deepnote_index_column": 774
        },
        {
         "pageid": 25569,
         "title": "Tavar Eggebracht",
         "_deepnote_index_column": 775
        },
        {
         "pageid": 18211,
         "title": "The Ghost in the Tree",
         "_deepnote_index_column": 776
        },
        {
         "pageid": 47302,
         "title": "The Mysterious Elf",
         "_deepnote_index_column": 777
        },
        {
         "pageid": 33673,
         "title": "The Pellar",
         "_deepnote_index_column": 778
        },
        {
         "pageid": 45982,
         "title": "Thecla",
         "_deepnote_index_column": 779
        },
        {
         "pageid": 30920,
         "title": "Theophile Maria Rosco",
         "_deepnote_index_column": 780
        },
        {
         "pageid": 43782,
         "title": "Thorleif",
         "_deepnote_index_column": 781
        },
        {
         "pageid": 76361,
         "title": "Tim Knott",
         "_deepnote_index_column": 782
        },
        {
         "pageid": 72032,
         "title": "Timmon",
         "_deepnote_index_column": 783
        },
        {
         "pageid": 83519,
         "title": "Tinboy",
         "_deepnote_index_column": 784
        },
        {
         "pageid": 28970,
         "title": "Titus Gielas",
         "_deepnote_index_column": 785
        },
        {
         "pageid": 72153,
         "title": "Tjalve",
         "_deepnote_index_column": 786
        },
        {
         "pageid": 26176,
         "title": "Tomira",
         "_deepnote_index_column": 787
        },
        {
         "pageid": 51552,
         "title": "Torgun",
         "_deepnote_index_column": 788
        },
        {
         "pageid": 43018,
         "title": "Tove",
         "_deepnote_index_column": 789
        },
        {
         "pageid": 51451,
         "title": "Trader (Crow's Perch)",
         "_deepnote_index_column": 790
        },
        {
         "pageid": 40082,
         "title": "Traveling trader (Velen)",
         "_deepnote_index_column": 791
        },
        {
         "pageid": 43996,
         "title": "Travik",
         "_deepnote_index_column": 792
        },
        {
         "pageid": 58877,
         "title": "Trollololo",
         "_deepnote_index_column": 793
        },
        {
         "pageid": 51554,
         "title": "Trygvi",
         "_deepnote_index_column": 794
        },
        {
         "pageid": 30575,
         "title": "Udalryk an Brokvar",
         "_deepnote_index_column": 795
        },
        {
         "pageid": 70776,
         "title": "Ulf",
         "_deepnote_index_column": 796
        },
        {
         "pageid": 72210,
         "title": "Ulf (Timmon's brother)",
         "_deepnote_index_column": 797
        },
        {
         "pageid": 47617,
         "title": "Ulle the Unlucky",
         "_deepnote_index_column": 798
        },
        {
         "pageid": 22572,
         "title": "Uma",
         "_deepnote_index_column": 799
        },
        {
         "pageid": 53723,
         "title": "Uve",
         "_deepnote_index_column": 800
        },
        {
         "pageid": 41395,
         "title": "Uve Jabberjaw",
         "_deepnote_index_column": 801
        },
        {
         "pageid": 72945,
         "title": "Vagn",
         "_deepnote_index_column": 802
        },
        {
         "pageid": 38262,
         "title": "Vairmont Jonne",
         "_deepnote_index_column": 803
        },
        {
         "pageid": 74890,
         "title": "Valdo",
         "_deepnote_index_column": 804
        },
        {
         "pageid": 40228,
         "title": "Valgard",
         "_deepnote_index_column": 805
        },
        {
         "pageid": 40224,
         "title": "Valgridovt",
         "_deepnote_index_column": 806
        },
        {
         "pageid": 51270,
         "title": "Var Attre Guard Captain",
         "_deepnote_index_column": 807
        },
        {
         "pageid": 29607,
         "title": "Vernossiel",
         "_deepnote_index_column": 808
        },
        {
         "pageid": 8974,
         "title": "Vespula",
         "_deepnote_index_column": 809
        },
        {
         "pageid": 73102,
         "title": "Victor",
         "_deepnote_index_column": 810
        },
        {
         "pageid": 28488,
         "title": "Vienne",
         "_deepnote_index_column": 811
        },
        {
         "pageid": 46365,
         "title": "Vigi the Loon",
         "_deepnote_index_column": 812
        },
        {
         "pageid": 40222,
         "title": "Viki",
         "_deepnote_index_column": 813
        },
        {
         "pageid": 51575,
         "title": "Vilmar (druid)",
         "_deepnote_index_column": 814
        },
        {
         "pageid": 4017,
         "title": "Vimme Vivaldi",
         "_deepnote_index_column": 815
        },
        {
         "pageid": 72279,
         "title": "Viola",
         "_deepnote_index_column": 816
        },
        {
         "pageid": 38230,
         "title": "Vladimir de Cret",
         "_deepnote_index_column": 817
        },
        {
         "pageid": 76303,
         "title": "Volund",
         "_deepnote_index_column": 818
        },
        {
         "pageid": 70700,
         "title": "Voytek",
         "_deepnote_index_column": 819
        },
        {
         "pageid": 43476,
         "title": "Wallter",
         "_deepnote_index_column": 820
        },
        {
         "pageid": 38660,
         "title": "Weavess",
         "_deepnote_index_column": 821
        },
        {
         "pageid": 38664,
         "title": "Whispess",
         "_deepnote_index_column": 822
        },
        {
         "pageid": 30099,
         "title": "Willis",
         "_deepnote_index_column": 823
        },
        {
         "pageid": 44007,
         "title": "Yagna",
         "_deepnote_index_column": 824
        },
        {
         "pageid": 77517,
         "title": "Yagoda",
         "_deepnote_index_column": 825
        },
        {
         "pageid": 29066,
         "title": "Yamurlak (spy)",
         "_deepnote_index_column": 826
        },
        {
         "pageid": 76258,
         "title": "Yanina",
         "_deepnote_index_column": 827
        },
        {
         "pageid": 44018,
         "title": "Yanna (The Witcher 3)",
         "_deepnote_index_column": 828
        },
        {
         "pageid": 45202,
         "title": "Yanne",
         "_deepnote_index_column": 829
        },
        {
         "pageid": 75637,
         "title": "Yaren",
         "_deepnote_index_column": 830
        },
        {
         "pageid": 35362,
         "title": "Yoana",
         "_deepnote_index_column": 831
        },
        {
         "pageid": 51581,
         "title": "Yolar",
         "_deepnote_index_column": 832
        },
        {
         "pageid": 43932,
         "title": "Yontek",
         "_deepnote_index_column": 833
        },
        {
         "pageid": 76242,
         "title": "Yorg",
         "_deepnote_index_column": 834
        },
        {
         "pageid": 76245,
         "title": "Yorg's sister",
         "_deepnote_index_column": 835
        }
       ]
      },
      "text/plain": "     pageid                                  title\n0      8046                              Innkeeper\n1      5069  The Witcher journal character entries\n2      2478                                Abigail\n3     53882                     Adalbert (soldier)\n4      2210                    Adam (Murky Waters)\n..      ...                                    ...\n831   35362                                  Yoana\n832   51581                                  Yolar\n833   43932                                 Yontek\n834   76242                                   Yorg\n835   76245                          Yorg's sister\n\n[836 rows x 2 columns]",
      "text/html": "<div>\n<style scoped>\n    .dataframe tbody tr th:only-of-type {\n        vertical-align: middle;\n    }\n\n    .dataframe tbody tr th {\n        vertical-align: top;\n    }\n\n    .dataframe thead th {\n        text-align: right;\n    }\n</style>\n<table border=\"1\" class=\"dataframe\">\n  <thead>\n    <tr style=\"text-align: right;\">\n      <th></th>\n      <th>pageid</th>\n      <th>title</th>\n    </tr>\n  </thead>\n  <tbody>\n    <tr>\n      <th>0</th>\n      <td>8046</td>\n      <td>Innkeeper</td>\n    </tr>\n    <tr>\n      <th>1</th>\n      <td>5069</td>\n      <td>The Witcher journal character entries</td>\n    </tr>\n    <tr>\n      <th>2</th>\n      <td>2478</td>\n      <td>Abigail</td>\n    </tr>\n    <tr>\n      <th>3</th>\n      <td>53882</td>\n      <td>Adalbert (soldier)</td>\n    </tr>\n    <tr>\n      <th>4</th>\n      <td>2210</td>\n      <td>Adam (Murky Waters)</td>\n    </tr>\n    <tr>\n      <th>...</th>\n      <td>...</td>\n      <td>...</td>\n    </tr>\n    <tr>\n      <th>831</th>\n      <td>35362</td>\n      <td>Yoana</td>\n    </tr>\n    <tr>\n      <th>832</th>\n      <td>51581</td>\n      <td>Yolar</td>\n    </tr>\n    <tr>\n      <th>833</th>\n      <td>43932</td>\n      <td>Yontek</td>\n    </tr>\n    <tr>\n      <th>834</th>\n      <td>76242</td>\n      <td>Yorg</td>\n    </tr>\n    <tr>\n      <th>835</th>\n      <td>76245</td>\n      <td>Yorg's sister</td>\n    </tr>\n  </tbody>\n</table>\n<p>836 rows × 2 columns</p>\n</div>"
     },
     "metadata": {}
    }
   ],
   "execution_count": 5
  },
  {
   "cell_type": "code",
   "metadata": {
    "tags": [],
    "cell_id": "00002-b1f3f3aa-0967-4088-9a91-662cec8f5bfc",
    "deepnote_to_be_reexecuted": false,
    "source_hash": "40a003d4",
    "execution_start": 1635936000434,
    "execution_millis": 136,
    "deepnote_cell_type": "code"
   },
   "source": "title_name = 'Abigail'  \nbaseurl = \"https://witcher.fandom.com/api.php?\"\naction = \"action=query\"\ntitle = f\"titles={title_name}\"\ncontent = \"prop=extracts&exlimit=1&explaintext\"\ndataformat =\"format=json\"\nquery = \"{}{}&{}&{}&{}\".format(baseurl, action, content, title, dataformat)\n\n\nresponse = urllib.request.urlopen(query)\nsource = response.read()\nwikitext = source.decode('UTF-8')   \nwiki_json = json.loads(wikitext)\npage = list(wiki_json['query']['pages'].keys())[0]\nclean_text = wiki_json['query']['pages'][page]['extract']",
   "outputs": [],
   "execution_count": 6
  },
  {
   "cell_type": "code",
   "source": "clean_text",
   "metadata": {
    "tags": [],
    "cell_id": "00003-701e511c-13ca-436f-9fbc-b04fa046ecb7",
    "deepnote_cell_type": "code"
   },
   "outputs": [],
   "execution_count": null
  },
  {
   "cell_type": "code",
   "metadata": {
    "tags": [],
    "cell_id": "00002-f46e23f3-d4a1-48bc-8b93-2770a232b3eb",
    "deepnote_cell_type": "code"
   },
   "source": "baseurl = \"https://witcher.fandom.com/api.php?\"\naction = \"action=query\"\ncontent = \"prop=revisions&rvprop=content&rvslots=*\"\ndataformat =\"format=json\"\n\nfor t in df['title']:\n    try:\n        t = t.replace(\" \", \"_\") #Ensure that whitespace -> underscores\n        titles = \"titles=\" + t\n        query = \"{}{}&{}&{}&{}\".format(baseurl, dataformat, action, content, titles)\n        response = urllib.request.urlopen(query)\n        data = response.read()\n        text = data.decode(\"UTF-8\")\n        text_json = json.loads(text)\n        final_text = text_json[\"query\"][\"pages\"][list(text_json[\"query\"][\"pages\"].keys())[0]][\"revisions\"][0][\"slots\"][\"main\"][\"*\"]\n        filename = t +'.txt'\n        \n        savepath = 'data'\n        completeName = os.path.join(savepath, filename)\n        \n        with open(completeName, 'w') as f:\n            f.write(final_text)\n    except:\n        print(t)",
   "execution_count": null,
   "outputs": []
  },
  {
   "cell_type": "markdown",
   "source": "<a style='text-decoration:none;line-height:16px;display:flex;color:#5B5B62;padding:10px;justify-content:end;' href='https://deepnote.com?utm_source=created-in-deepnote-cell&projectId=061c6de9-714b-4aa5-8dca-7fde3082e296' target=\"_blank\">\n<img alt='Created in deepnote.com' style='display:inline;max-height:16px;margin:0px;margin-right:7.5px;' src='data:image/svg+xml;base64,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' > </img>\nCreated in <span style='font-weight:600;margin-left:4px;'>Deepnote</span></a>",
   "metadata": {
    "tags": [],
    "created_in_deepnote_cell": true,
    "deepnote_cell_type": "markdown"
   }
  }
 ],
 "nbformat": 4,
 "nbformat_minor": 2,
 "metadata": {
  "orig_nbformat": 2,
  "deepnote": {
   "is_reactive": false
  },
  "deepnote_notebook_id": "a970c2f8-6865-4fc7-9aab-cc5824cc0aa6",
  "deepnote_execution_queue": []
 }
}
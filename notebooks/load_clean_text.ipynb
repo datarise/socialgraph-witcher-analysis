{
 "cells": [
  {
   "cell_type": "code",
   "metadata": {
    "tags": [],
    "cell_id": "00000-0f9307f7-91bb-4ed7-b025-8d34d399ec9a",
    "deepnote_to_be_reexecuted": false,
    "source_hash": "a242c39c",
    "execution_start": 1637141343462,
    "execution_millis": 2459,
    "deepnote_cell_type": "code"
   },
   "source": "import pandas as pd\nimport re\nimport urllib.request\nimport json\nimport networkx as nx\nimport matplotlib.pyplot as plt\nimport requests\nimport os.path\nimport nltk\nfrom nltk.corpus import PlaintextCorpusReader",
   "outputs": [],
   "execution_count": null
  },
  {
   "cell_type": "code",
   "metadata": {
    "tags": [],
    "cell_id": "00001-43aa3769-fc81-442f-ab60-201324a62fb8",
    "deepnote_to_be_reexecuted": false,
    "source_hash": "adfa8b1",
    "execution_start": 1637144673261,
    "execution_millis": 38,
    "deepnote_cell_type": "code"
   },
   "source": "df_characters = pd.read_csv(\"/work/socialgraph-witcher-analysis/data/characters.csv\")\ndf_characters.head()",
   "outputs": [
    {
     "output_type": "execute_result",
     "execution_count": 115,
     "data": {
      "application/vnd.deepnote.dataframe.v2+json": {
       "row_count": 5,
       "column_count": 2,
       "columns": [
        {
         "name": "pageid",
         "dtype": "int64",
         "stats": {
          "unique_count": 5,
          "nan_count": 0,
          "min": "2210",
          "max": "53882",
          "histogram": [
           {
            "bin_start": 2210,
            "bin_end": 7377.2,
            "count": 3
           },
           {
            "bin_start": 7377.2,
            "bin_end": 12544.4,
            "count": 1
           },
           {
            "bin_start": 12544.4,
            "bin_end": 17711.6,
            "count": 0
           },
           {
            "bin_start": 17711.6,
            "bin_end": 22878.8,
            "count": 0
           },
           {
            "bin_start": 22878.8,
            "bin_end": 28046,
            "count": 0
           },
           {
            "bin_start": 28046,
            "bin_end": 33213.2,
            "count": 0
           },
           {
            "bin_start": 33213.2,
            "bin_end": 38380.4,
            "count": 0
           },
           {
            "bin_start": 38380.4,
            "bin_end": 43547.6,
            "count": 0
           },
           {
            "bin_start": 43547.6,
            "bin_end": 48714.799999999996,
            "count": 0
           },
           {
            "bin_start": 48714.799999999996,
            "bin_end": 53882,
            "count": 1
           }
          ]
         }
        },
        {
         "name": "title",
         "dtype": "object",
         "stats": {
          "unique_count": 5,
          "nan_count": 0,
          "categories": [
           {
            "name": "Innkeeper",
            "count": 1
           },
           {
            "name": "The Witcher journal character entries",
            "count": 1
           },
           {
            "name": "3 others",
            "count": 3
           }
          ]
         }
        },
        {
         "name": "_deepnote_index_column",
         "dtype": "int64"
        }
       ],
       "rows_top": [
        {
         "pageid": 8046,
         "title": "Innkeeper",
         "_deepnote_index_column": 0
        },
        {
         "pageid": 5069,
         "title": "The Witcher journal character entries",
         "_deepnote_index_column": 1
        },
        {
         "pageid": 2478,
         "title": "Abigail",
         "_deepnote_index_column": 2
        },
        {
         "pageid": 53882,
         "title": "Adalbert (soldier)",
         "_deepnote_index_column": 3
        },
        {
         "pageid": 2210,
         "title": "Adam (Murky Waters)",
         "_deepnote_index_column": 4
        }
       ],
       "rows_bottom": null
      },
      "text/plain": "   pageid                                  title\n0    8046                              Innkeeper\n1    5069  The Witcher journal character entries\n2    2478                                Abigail\n3   53882                     Adalbert (soldier)\n4    2210                    Adam (Murky Waters)",
      "text/html": "<div>\n<style scoped>\n    .dataframe tbody tr th:only-of-type {\n        vertical-align: middle;\n    }\n\n    .dataframe tbody tr th {\n        vertical-align: top;\n    }\n\n    .dataframe thead th {\n        text-align: right;\n    }\n</style>\n<table border=\"1\" class=\"dataframe\">\n  <thead>\n    <tr style=\"text-align: right;\">\n      <th></th>\n      <th>pageid</th>\n      <th>title</th>\n    </tr>\n  </thead>\n  <tbody>\n    <tr>\n      <th>0</th>\n      <td>8046</td>\n      <td>Innkeeper</td>\n    </tr>\n    <tr>\n      <th>1</th>\n      <td>5069</td>\n      <td>The Witcher journal character entries</td>\n    </tr>\n    <tr>\n      <th>2</th>\n      <td>2478</td>\n      <td>Abigail</td>\n    </tr>\n    <tr>\n      <th>3</th>\n      <td>53882</td>\n      <td>Adalbert (soldier)</td>\n    </tr>\n    <tr>\n      <th>4</th>\n      <td>2210</td>\n      <td>Adam (Murky Waters)</td>\n    </tr>\n  </tbody>\n</table>\n</div>"
     },
     "metadata": {}
    }
   ],
   "execution_count": null
  },
  {
   "cell_type": "code",
   "source": "df_characters_unclean = pd.read_csv(\"/work/socialgraph-witcher-analysis/data/unclean_characters.csv\")\ndf_characters_unclean.head()",
   "metadata": {
    "tags": [],
    "cell_id": "00002-efa90acb-568e-4221-8903-712a48668461",
    "deepnote_to_be_reexecuted": false,
    "source_hash": "3e320cd5",
    "execution_start": 1637146637513,
    "execution_millis": 23,
    "deepnote_cell_type": "code"
   },
   "outputs": [
    {
     "output_type": "execute_result",
     "execution_count": 138,
     "data": {
      "application/vnd.deepnote.dataframe.v2+json": {
       "row_count": 5,
       "column_count": 3,
       "columns": [
        {
         "name": "Unnamed: 0",
         "dtype": "int64",
         "stats": {
          "unique_count": 5,
          "nan_count": 0,
          "min": "0",
          "max": "4",
          "histogram": [
           {
            "bin_start": 0,
            "bin_end": 0.4,
            "count": 1
           },
           {
            "bin_start": 0.4,
            "bin_end": 0.8,
            "count": 0
           },
           {
            "bin_start": 0.8,
            "bin_end": 1.2000000000000002,
            "count": 1
           },
           {
            "bin_start": 1.2000000000000002,
            "bin_end": 1.6,
            "count": 0
           },
           {
            "bin_start": 1.6,
            "bin_end": 2,
            "count": 0
           },
           {
            "bin_start": 2,
            "bin_end": 2.4000000000000004,
            "count": 1
           },
           {
            "bin_start": 2.4000000000000004,
            "bin_end": 2.8000000000000003,
            "count": 0
           },
           {
            "bin_start": 2.8000000000000003,
            "bin_end": 3.2,
            "count": 1
           },
           {
            "bin_start": 3.2,
            "bin_end": 3.6,
            "count": 0
           },
           {
            "bin_start": 3.6,
            "bin_end": 4,
            "count": 1
           }
          ]
         }
        },
        {
         "name": "pageid",
         "dtype": "int64",
         "stats": {
          "unique_count": 5,
          "nan_count": 0,
          "min": "2210",
          "max": "53882",
          "histogram": [
           {
            "bin_start": 2210,
            "bin_end": 7377.2,
            "count": 3
           },
           {
            "bin_start": 7377.2,
            "bin_end": 12544.4,
            "count": 1
           },
           {
            "bin_start": 12544.4,
            "bin_end": 17711.6,
            "count": 0
           },
           {
            "bin_start": 17711.6,
            "bin_end": 22878.8,
            "count": 0
           },
           {
            "bin_start": 22878.8,
            "bin_end": 28046,
            "count": 0
           },
           {
            "bin_start": 28046,
            "bin_end": 33213.2,
            "count": 0
           },
           {
            "bin_start": 33213.2,
            "bin_end": 38380.4,
            "count": 0
           },
           {
            "bin_start": 38380.4,
            "bin_end": 43547.6,
            "count": 0
           },
           {
            "bin_start": 43547.6,
            "bin_end": 48714.799999999996,
            "count": 0
           },
           {
            "bin_start": 48714.799999999996,
            "bin_end": 53882,
            "count": 1
           }
          ]
         }
        },
        {
         "name": "title",
         "dtype": "object",
         "stats": {
          "unique_count": 5,
          "nan_count": 0,
          "categories": [
           {
            "name": "Innkeeper",
            "count": 1
           },
           {
            "name": "The Witcher journal character entries",
            "count": 1
           },
           {
            "name": "3 others",
            "count": 3
           }
          ]
         }
        },
        {
         "name": "_deepnote_index_column",
         "dtype": "int64"
        }
       ],
       "rows_top": [
        {
         "Unnamed: 0": 0,
         "pageid": 8046,
         "title": "Innkeeper",
         "_deepnote_index_column": 0
        },
        {
         "Unnamed: 0": 1,
         "pageid": 5069,
         "title": "The Witcher journal character entries",
         "_deepnote_index_column": 1
        },
        {
         "Unnamed: 0": 2,
         "pageid": 2478,
         "title": "Abigail",
         "_deepnote_index_column": 2
        },
        {
         "Unnamed: 0": 3,
         "pageid": 53882,
         "title": "Adalbert (soldier)",
         "_deepnote_index_column": 3
        },
        {
         "Unnamed: 0": 4,
         "pageid": 2210,
         "title": "Adam (Murky Waters)",
         "_deepnote_index_column": 4
        }
       ],
       "rows_bottom": null
      },
      "text/plain": "   Unnamed: 0  pageid                                  title\n0           0    8046                              Innkeeper\n1           1    5069  The Witcher journal character entries\n2           2    2478                                Abigail\n3           3   53882                     Adalbert (soldier)\n4           4    2210                    Adam (Murky Waters)",
      "text/html": "<div>\n<style scoped>\n    .dataframe tbody tr th:only-of-type {\n        vertical-align: middle;\n    }\n\n    .dataframe tbody tr th {\n        vertical-align: top;\n    }\n\n    .dataframe thead th {\n        text-align: right;\n    }\n</style>\n<table border=\"1\" class=\"dataframe\">\n  <thead>\n    <tr style=\"text-align: right;\">\n      <th></th>\n      <th>Unnamed: 0</th>\n      <th>pageid</th>\n      <th>title</th>\n    </tr>\n  </thead>\n  <tbody>\n    <tr>\n      <th>0</th>\n      <td>0</td>\n      <td>8046</td>\n      <td>Innkeeper</td>\n    </tr>\n    <tr>\n      <th>1</th>\n      <td>1</td>\n      <td>5069</td>\n      <td>The Witcher journal character entries</td>\n    </tr>\n    <tr>\n      <th>2</th>\n      <td>2</td>\n      <td>2478</td>\n      <td>Abigail</td>\n    </tr>\n    <tr>\n      <th>3</th>\n      <td>3</td>\n      <td>53882</td>\n      <td>Adalbert (soldier)</td>\n    </tr>\n    <tr>\n      <th>4</th>\n      <td>4</td>\n      <td>2210</td>\n      <td>Adam (Murky Waters)</td>\n    </tr>\n  </tbody>\n</table>\n</div>"
     },
     "metadata": {}
    }
   ],
   "execution_count": null
  },
  {
   "cell_type": "code",
   "source": "len(df_characters_unclean)",
   "metadata": {
    "tags": [],
    "cell_id": "00003-6608db0b-7e20-403c-939c-11adbf89c30d",
    "deepnote_to_be_reexecuted": false,
    "source_hash": "510d820",
    "execution_start": 1637147198163,
    "execution_millis": 14,
    "deepnote_cell_type": "code"
   },
   "outputs": [
    {
     "output_type": "execute_result",
     "execution_count": 143,
     "data": {
      "text/plain": "836"
     },
     "metadata": {}
    }
   ],
   "execution_count": null
  },
  {
   "cell_type": "code",
   "metadata": {
    "tags": [],
    "cell_id": "00002-f46e23f3-d4a1-48bc-8b93-2770a232b3eb",
    "deepnote_to_be_reexecuted": false,
    "source_hash": "79d42bbe",
    "execution_start": 1637144770203,
    "execution_millis": 90923,
    "deepnote_cell_type": "code"
   },
   "source": "baseurl = \"https://witcher.fandom.com/api.php?\"\naction = \"action=query\"\ncontent = \"prop=extracts&exlimit=1&explaintext\"\ndataformat =\"format=json\"\n\nfor t in df_characters['title']:\n    try:\n        title_name = t.replace(\" \", \"_\") #Ensure that whitespace -> underscores\n        title_string = str(title_name.encode(encoding='UTF-8',errors='strict'))\n        title_string = title_string[:-1].replace(\"b\\'\", \"\").replace(\"\\\\x\", \"%\").replace(\"b\\\"\", \"\")\n        title = f\"titles={title_string}\"\n        query = \"{}{}&{}&{}&{}\".format(baseurl, action, content, title, dataformat)\n\n        response = urllib.request.urlopen(query)\n        source = response.read()\n        wikitext = source.decode('UTF-8')   \n        wiki_json = json.loads(wikitext)\n        page = list(wiki_json['query']['pages'].keys())[0]\n        clean_text = wiki_json['query']['pages'][page]['extract']\n        clean_text = clean_text.replace('\\n', ' ').replace('\\t', '')\n        final_text = re.sub(r'\\=\\=(.*?)\\=\\=', r'', clean_text).replace('=', '')\n        filename = title_name +'.txt'\n        \n        savepath = 'data_clean_text'\n        completeName = os.path.join(savepath, filename)\n        \n        with open(completeName, 'w') as f:\n            f.write(final_text)\n    except:\n        print(t)",
   "outputs": [
    {
     "name": "stdout",
     "text": "Eredin Breacc Glas\n",
     "output_type": "stream"
    }
   ],
   "execution_count": null
  },
  {
   "cell_type": "code",
   "metadata": {
    "tags": [],
    "cell_id": "00006-466824ca-6547-4bfa-aa2d-9d9f6dc805bb",
    "deepnote_to_be_reexecuted": false,
    "source_hash": "fe99061",
    "execution_start": 1636487557616,
    "execution_millis": 129,
    "deepnote_cell_type": "code"
   },
   "source": "#Handle Eredin\ntitle_name = \"Eredin_Breacc_Glas\"#Ensure that whitespace -> underscores\ntitle = \"titles=Eredin_Br%C3%A9acc_Glas\" \nquery = \"{}{}&{}&{}&{}\".format(baseurl, action, content, title, dataformat)\n\nresponse = urllib.request.urlopen(query)\nsource = response.read()\nwikitext = source.decode('UTF-8')   \nwiki_json = json.loads(wikitext)\npage = list(wiki_json['query']['pages'].keys())[0]\nclean_text = wiki_json['query']['pages'][page]['extract']\nclean_text = clean_text.replace('\\n', ' ').replace('\\t', '')\nfinal_text = re.sub(r'\\=\\=(.*?)\\=\\=', r'', clean_text).replace('=', '')\nfilename = title_name +'.txt'\n\nsavepath = 'data_clean_text'\ncompleteName = os.path.join(savepath, filename)\n\nwith open(completeName, 'w') as f:\n    f.write(final_text)",
   "execution_count": null,
   "outputs": []
  },
  {
   "cell_type": "code",
   "metadata": {
    "tags": [],
    "cell_id": "00006-50b62545-066d-482e-b9d3-dae65617b928",
    "deepnote_to_be_reexecuted": false,
    "source_hash": "e92b1efd",
    "execution_start": 1636487595503,
    "execution_millis": 368,
    "deepnote_cell_type": "code"
   },
   "source": "corpus_root = r'data_clean_text'\ntxt_list = ['Radovid_V.txt']\nwordlists = PlaintextCorpusReader(corpus_root, txt_list)\n#wordlists.fileids()\nnltk_texts = nltk.Text(wordlists.words())\nnltk_texts",
   "execution_count": null,
   "outputs": [
    {
     "output_type": "execute_result",
     "execution_count": 36,
     "data": {
      "text/plain": "<Text: Radovid V the Stern ( Polish : Radowid...>"
     },
     "metadata": {}
    }
   ]
  },
  {
   "cell_type": "code",
   "metadata": {
    "tags": [],
    "cell_id": "00007-b47f3e69-5bf2-4197-8309-6ac5293fe421",
    "deepnote_to_be_reexecuted": false,
    "source_hash": "b349cc2c",
    "execution_start": 1636487704002,
    "execution_millis": 1,
    "deepnote_cell_type": "code"
   },
   "source": "nltk_texts[220:250]",
   "execution_count": null,
   "outputs": [
    {
     "output_type": "execute_result",
     "execution_count": 40,
     "data": {
      "text/plain": "['and',\n 'dominated',\n 'and',\n 'demeaned',\n 'him',\n 'throughout',\n 'his',\n 'youth',\n '.',\n 'Radovid',\n 'was',\n 'born',\n 'in',\n '1255',\n 'in',\n 'Tretogor',\n 'to',\n 'the',\n 'royal',\n 'pair',\n ',',\n 'King',\n 'Vizimir',\n 'II',\n 'and',\n 'Queen',\n 'Hedwig',\n 'of',\n 'Malleore',\n ',']"
     },
     "metadata": {}
    }
   ]
  },
  {
   "cell_type": "code",
   "metadata": {
    "tags": [],
    "cell_id": "00009-0783784f-d343-4e84-a894-92a46c7d6f0e",
    "deepnote_to_be_reexecuted": false,
    "source_hash": "5e624fb8",
    "execution_start": 1637146321414,
    "execution_millis": 132,
    "deepnote_cell_type": "code"
   },
   "source": "baseurl = \"https://witcher.fandom.com/api.php?\"\naction = \"action=query\"\ncontent = \"prop=extracts&exlimit=1&explaintext\"\ndataformat =\"format=json\"\n\n\ntitle_name = \"Anais_La_Valette\"#Ensure that whitespace -> underscores\ntitle = \"titles=%c3%89ibhear_Hattori\"\nquery = \"{}{}&{}&{}&{}\".format(baseurl, action, content, title, dataformat)\n\nresponse = urllib.request.urlopen(query)\nsource = response.read()\nwikitext = source.decode('UTF-8')   \nwiki_json = json.loads(wikitext)\npage = list(wiki_json['query']['pages'].keys())[0]\nclean_text = wiki_json['query']['pages'][page]['extract']\nclean_text = clean_text.replace('\\n', ' ').replace('\\t', '')\nfinal_text = re.sub(r'\\=\\=(.*?)\\=\\=', r'', clean_text).replace('=', '')\n#filename = title_name +'.txt'\n\n#savepath = 'data_clean_text'\n#completeName = os.path.join(savepath, filename)\n\n#with open(completeName, 'w') as f:\n#    f.write(final_text)",
   "outputs": [],
   "execution_count": null
  },
  {
   "cell_type": "code",
   "source": "query",
   "metadata": {
    "tags": [],
    "cell_id": "00007-586f049a-a24b-4225-8c17-af02f029a615",
    "deepnote_to_be_reexecuted": false,
    "source_hash": "de065a26",
    "execution_start": 1637146322476,
    "execution_millis": 4,
    "deepnote_cell_type": "code"
   },
   "outputs": [
    {
     "output_type": "execute_result",
     "execution_count": 134,
     "data": {
      "text/plain": "'https://witcher.fandom.com/api.php?action=query&prop=extracts&exlimit=1&explaintext&titles=%c3%89ibhear_Hattori&format=json'"
     },
     "metadata": {}
    }
   ],
   "execution_count": null
  },
  {
   "cell_type": "code",
   "source": "final_text",
   "metadata": {
    "tags": [],
    "cell_id": "00007-20f923ae-12cc-4439-8605-4762c4803abd",
    "deepnote_to_be_reexecuted": false,
    "source_hash": "b4ffeade",
    "execution_start": 1637146324493,
    "execution_millis": 3,
    "deepnote_cell_type": "code"
   },
   "outputs": [
    {
     "output_type": "execute_result",
     "execution_count": 135,
     "data": {
      "text/plain": "'Éibhear Hattori was an elven master swordsmith living in a house in the Glory Lane district of Novigrad around 1272. He sells a variety of crafting components, runestones, and diagrams once Of Swords and Dumplings is complete.    Hattori made a decent living making master swords, and his name came to be known far and wide. However, when a fellow swordsmith, Ernst van Hoorn, started their own business, van Hoorn realized they lacked real skill to compete with the others in the area and so began to find other ways to monopolize on the swordsmithing trade, pushing anyone out of business or making false accusations, like accusing Hattori of working with havekars. Hattori tried to fight back and took the matter to town hall, but with van Hoorn backed by a local gang leader, Cleaver, Hattori\\'s appeal was denied. Faced with either being killed or dropping out of the swordsmithing business, Hattori turned to making dumplings instead, converting the outside of his home into a small restaurant. If Geralt helps him get back into swordsmithing: One day Hattori was greeted by a witcher, Geralt, and decided he missed the forge too much and to try and get supplies through another gang leader, the King of Beggars. However, it soon led to him having to get a temporary bodyguard in the form of Sukrus, as undoubtedly Cleaver would try to do away with the one trying to break up the swordsmithing monopoly. However, even with all the troubles that arose, Hattori was finally successful and able to return to working with a forge in peace.    Of Swords and Dumplings    His surname and role in the game are referencing Hattori Hanzō, the famous samurai in Sengoku era of Japan, as well as a former master swordsmith and sushi bar owner in the film Kill Bill Vol. 1. His first name is the Irish word for \"granite.\"   '"
     },
     "metadata": {}
    }
   ],
   "execution_count": null
  },
  {
   "cell_type": "code",
   "source": "test_string = str(\"titles=Anaïs_La_Valette\".encode(encoding='UTF-8',errors='strict'))\ntest_string = test_string[:-1].replace(\"b\\'\", \"\").replace(\"\\\\x\", \"%\").replace(\"b\\\"\", \"\")\ntest_string",
   "metadata": {
    "tags": [],
    "cell_id": "00010-a6be9b8f-58d5-41fb-8b18-e4ed5618e308",
    "deepnote_to_be_reexecuted": false,
    "source_hash": "25f04c9b",
    "execution_start": 1637144490593,
    "execution_millis": 14,
    "deepnote_cell_type": "code"
   },
   "outputs": [
    {
     "output_type": "execute_result",
     "execution_count": 107,
     "data": {
      "text/plain": "'titles=Ana%c3%afs_La_Valette'"
     },
     "metadata": {}
    }
   ],
   "execution_count": null
  },
  {
   "cell_type": "code",
   "source": "test_string = str(\"titles=Eredin_Bréacc_Glas\".encode(encoding='UTF-8',errors='strict'))\ntest_string = test_string[:-1].replace(\"b\\'\", \"\").replace(\"\\\\x\", \"%\").replace(\"b\\\"\", \"\")\ntest_string\n\n",
   "metadata": {
    "tags": [],
    "cell_id": "00013-8b4027dd-e7de-4a01-a0c9-b4c09d702aad",
    "deepnote_to_be_reexecuted": false,
    "source_hash": "22df58cd",
    "execution_start": 1637144491649,
    "execution_millis": 8,
    "deepnote_cell_type": "code"
   },
   "outputs": [
    {
     "output_type": "execute_result",
     "execution_count": 108,
     "data": {
      "text/plain": "'titles=Eredin_Br%c3%a9acc_Glas'"
     },
     "metadata": {}
    }
   ],
   "execution_count": null
  },
  {
   "cell_type": "code",
   "source": "test_string = str(\"titles=Ane'zka\".encode(encoding='UTF-8',errors='strict'))\ntest_string = test_string[:-1].replace(\"b\\'\", \"\").replace(\"\\\\x\", \"%\").replace(\"b\\\"\", \"\")\ntest_string",
   "metadata": {
    "tags": [],
    "cell_id": "00011-801a90d6-9503-4102-b32a-d774eaf5dd1f",
    "deepnote_to_be_reexecuted": false,
    "source_hash": "46ff0235",
    "execution_start": 1637144493682,
    "execution_millis": 3,
    "deepnote_cell_type": "code"
   },
   "outputs": [
    {
     "output_type": "execute_result",
     "execution_count": 109,
     "data": {
      "text/plain": "\"titles=Ane'zka\""
     },
     "metadata": {}
    }
   ],
   "execution_count": null
  },
  {
   "cell_type": "code",
   "source": "test_string = str(\"titles=Archibald_O'Neill\".encode(encoding='UTF-8',errors='strict'))\ntest_string = test_string[:-1].replace(\"b\\'\", \"\").replace(\"\\\\x\", \"%\").replace(\"b\\\"\", \"\")\ntest_string",
   "metadata": {
    "tags": [],
    "cell_id": "00012-a748295f-878f-430f-b12b-c66cb25aca90",
    "deepnote_to_be_reexecuted": false,
    "source_hash": "e48db7cb",
    "execution_start": 1637144509942,
    "execution_millis": 6,
    "deepnote_cell_type": "code"
   },
   "outputs": [
    {
     "output_type": "execute_result",
     "execution_count": 110,
     "data": {
      "text/plain": "\"titles=Archibald_O'Neill\""
     },
     "metadata": {}
    }
   ],
   "execution_count": null
  },
  {
   "cell_type": "code",
   "source": "test_string = str(\"titles=Abbé_Faria\".encode(encoding='UTF-8',errors='strict'))\ntest_string = test_string[:-1].replace(\"b\\'\", \"\").replace(\"\\\\x\", \"%\").replace(\"b\\\"\", \"\")\ntest_string",
   "metadata": {
    "tags": [],
    "cell_id": "00013-f7243cd8-2fcb-4caa-bc3f-0c8d8f84772b",
    "deepnote_to_be_reexecuted": false,
    "source_hash": "86e94296",
    "execution_start": 1637146160854,
    "execution_millis": 2,
    "deepnote_cell_type": "code"
   },
   "outputs": [
    {
     "output_type": "execute_result",
     "execution_count": 128,
     "data": {
      "text/plain": "'titles=Abb%c3%a9_Faria'"
     },
     "metadata": {}
    }
   ],
   "execution_count": null
  },
  {
   "cell_type": "code",
   "source": "test_string = str(\"titles=Éibhear_Hattori\".encode(encoding='UTF-8',errors='strict'))\ntest_string = test_string[:-1].replace(\"b\\'\", \"\").replace(\"\\\\x\", \"%\").replace(\"b\\\"\", \"\")\ntest_string\n",
   "metadata": {
    "tags": [],
    "cell_id": "00014-e6d46157-2f4f-423c-87c6-b27ef8377fb8",
    "deepnote_to_be_reexecuted": false,
    "source_hash": "3a64236b",
    "execution_start": 1637146305380,
    "execution_millis": 40,
    "deepnote_cell_type": "code"
   },
   "outputs": [
    {
     "output_type": "execute_result",
     "execution_count": 132,
     "data": {
      "text/plain": "'titles=%c3%89ibhear_Hattori'"
     },
     "metadata": {}
    }
   ],
   "execution_count": null
  },
  {
   "cell_type": "code",
   "source": "df_characters_unclean[df_characters_unclean['title']=='Éibhear Hattori']",
   "metadata": {
    "tags": [],
    "cell_id": "00013-1b253ca2-e79d-4764-bd9e-a786ca3213ed",
    "deepnote_to_be_reexecuted": false,
    "source_hash": "baf43347",
    "execution_start": 1637146670730,
    "execution_millis": 14,
    "deepnote_cell_type": "code"
   },
   "outputs": [
    {
     "output_type": "execute_result",
     "execution_count": 140,
     "data": {
      "application/vnd.deepnote.dataframe.v2+json": {
       "row_count": 1,
       "column_count": 3,
       "columns": [
        {
         "name": "Unnamed: 0",
         "dtype": "int64",
         "stats": {
          "unique_count": 1,
          "nan_count": 0,
          "min": "493",
          "max": "493",
          "histogram": [
           {
            "bin_start": 492.5,
            "bin_end": 492.6,
            "count": 0
           },
           {
            "bin_start": 492.6,
            "bin_end": 492.7,
            "count": 0
           },
           {
            "bin_start": 492.7,
            "bin_end": 492.8,
            "count": 0
           },
           {
            "bin_start": 492.8,
            "bin_end": 492.9,
            "count": 0
           },
           {
            "bin_start": 492.9,
            "bin_end": 493,
            "count": 0
           },
           {
            "bin_start": 493,
            "bin_end": 493.1,
            "count": 1
           },
           {
            "bin_start": 493.1,
            "bin_end": 493.2,
            "count": 0
           },
           {
            "bin_start": 493.2,
            "bin_end": 493.3,
            "count": 0
           },
           {
            "bin_start": 493.3,
            "bin_end": 493.4,
            "count": 0
           },
           {
            "bin_start": 493.4,
            "bin_end": 493.5,
            "count": 0
           }
          ]
         }
        },
        {
         "name": "pageid",
         "dtype": "int64",
         "stats": {
          "unique_count": 1,
          "nan_count": 0,
          "min": "41176",
          "max": "41176",
          "histogram": [
           {
            "bin_start": 41175.5,
            "bin_end": 41175.6,
            "count": 0
           },
           {
            "bin_start": 41175.6,
            "bin_end": 41175.7,
            "count": 0
           },
           {
            "bin_start": 41175.7,
            "bin_end": 41175.8,
            "count": 0
           },
           {
            "bin_start": 41175.8,
            "bin_end": 41175.9,
            "count": 0
           },
           {
            "bin_start": 41175.9,
            "bin_end": 41176,
            "count": 0
           },
           {
            "bin_start": 41176,
            "bin_end": 41176.1,
            "count": 1
           },
           {
            "bin_start": 41176.1,
            "bin_end": 41176.2,
            "count": 0
           },
           {
            "bin_start": 41176.2,
            "bin_end": 41176.3,
            "count": 0
           },
           {
            "bin_start": 41176.3,
            "bin_end": 41176.4,
            "count": 0
           },
           {
            "bin_start": 41176.4,
            "bin_end": 41176.5,
            "count": 0
           }
          ]
         }
        },
        {
         "name": "title",
         "dtype": "object",
         "stats": {
          "unique_count": 1,
          "nan_count": 0,
          "categories": [
           {
            "name": "Éibhear Hattori",
            "count": 1
           }
          ]
         }
        },
        {
         "name": "_deepnote_index_column",
         "dtype": "int64"
        }
       ],
       "rows_top": [
        {
         "Unnamed: 0": 493,
         "pageid": 41176,
         "title": "Éibhear Hattori",
         "_deepnote_index_column": 471
        }
       ],
       "rows_bottom": null
      },
      "text/plain": "     Unnamed: 0  pageid            title\n471         493   41176  Éibhear Hattori",
      "text/html": "<div>\n<style scoped>\n    .dataframe tbody tr th:only-of-type {\n        vertical-align: middle;\n    }\n\n    .dataframe tbody tr th {\n        vertical-align: top;\n    }\n\n    .dataframe thead th {\n        text-align: right;\n    }\n</style>\n<table border=\"1\" class=\"dataframe\">\n  <thead>\n    <tr style=\"text-align: right;\">\n      <th></th>\n      <th>Unnamed: 0</th>\n      <th>pageid</th>\n      <th>title</th>\n    </tr>\n  </thead>\n  <tbody>\n    <tr>\n      <th>471</th>\n      <td>493</td>\n      <td>41176</td>\n      <td>Éibhear Hattori</td>\n    </tr>\n  </tbody>\n</table>\n</div>"
     },
     "metadata": {}
    }
   ],
   "execution_count": null
  },
  {
   "cell_type": "code",
   "source": "#Saving data with weird é and ï in txt file names\n\nbaseurl = \"https://witcher.fandom.com/api.php?\"\naction = \"action=query\"\ncontent = \"prop=extracts&exlimit=1&explaintext\"\ndataformat =\"format=json\"\n\nfor t in df_characters_unclean['title']:\n    try:\n        title_name = t.replace(\" \", \"_\") #Ensure that whitespace -> underscores\n        title_string = str(title_name.encode(encoding='UTF-8',errors='strict'))\n        title_string = title_string[:-1].replace(\"b\\'\", \"\").replace(\"\\\\x\", \"%\").replace(\"b\\\"\", \"\")\n        title = f\"titles={title_string}\"\n        query = \"{}{}&{}&{}&{}\".format(baseurl, action, content, title, dataformat)\n\n        response = urllib.request.urlopen(query)\n        source = response.read()\n        wikitext = source.decode('UTF-8')   \n        wiki_json = json.loads(wikitext)\n        page = list(wiki_json['query']['pages'].keys())[0]\n        clean_text = wiki_json['query']['pages'][page]['extract']\n        clean_text = clean_text.replace('\\n', ' ').replace('\\t', '')\n        final_text = re.sub(r'\\=\\=(.*?)\\=\\=', r'', clean_text).replace('=', '')\n        filename = title_name +'.txt'\n        \n        savepath = 'data_clean_test'\n        completeName = os.path.join(savepath, filename)\n        \n        with open(completeName, 'w') as f:\n            f.write(final_text)\n    except:\n        print(t)",
   "metadata": {
    "tags": [],
    "cell_id": "00014-a3a342c3-aa5c-41b6-9abe-d9efcee22388",
    "deepnote_to_be_reexecuted": false,
    "source_hash": "426f2787",
    "execution_start": 1637146817627,
    "execution_millis": 94385,
    "deepnote_cell_type": "code"
   },
   "outputs": [],
   "execution_count": null
  },
  {
   "cell_type": "code",
   "source": "",
   "metadata": {
    "tags": [],
    "cell_id": "00018-12a0515a-dea2-464b-ba48-7faed9929a29",
    "deepnote_cell_type": "code"
   },
   "outputs": [],
   "execution_count": null
  },
  {
   "cell_type": "markdown",
   "source": "<a style='text-decoration:none;line-height:16px;display:flex;color:#5B5B62;padding:10px;justify-content:end;' href='https://deepnote.com?utm_source=created-in-deepnote-cell&projectId=061c6de9-714b-4aa5-8dca-7fde3082e296' target=\"_blank\">\n<img alt='Created in deepnote.com' style='display:inline;max-height:16px;margin:0px;margin-right:7.5px;' src='data:image/svg+xml;base64,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' > </img>\nCreated in <span style='font-weight:600;margin-left:4px;'>Deepnote</span></a>",
   "metadata": {
    "tags": [],
    "created_in_deepnote_cell": true,
    "deepnote_cell_type": "markdown"
   }
  }
 ],
 "nbformat": 4,
 "nbformat_minor": 2,
 "metadata": {
  "orig_nbformat": 2,
  "deepnote": {
   "is_reactive": false
  },
  "deepnote_notebook_id": "a970c2f8-6865-4fc7-9aab-cc5824cc0aa6",
  "deepnote_execution_queue": []
 }
}
{
 "cells": [
  {
   "cell_type": "code",
   "metadata": {
    "tags": [],
    "cell_id": "00000-0f9307f7-91bb-4ed7-b025-8d34d399ec9a",
    "deepnote_to_be_reexecuted": false,
    "source_hash": "a242c39c",
    "execution_start": 1636487321215,
    "execution_millis": 1,
    "deepnote_cell_type": "code"
   },
   "source": "import pandas as pd\nimport re\nimport urllib.request\nimport json\nimport networkx as nx\nimport matplotlib.pyplot as plt\nimport requests\nimport os.path\nimport nltk\nfrom nltk.corpus import PlaintextCorpusReader",
   "execution_count": 24,
   "outputs": []
  },
  {
   "cell_type": "code",
   "metadata": {
    "tags": [],
    "cell_id": "00001-43aa3769-fc81-442f-ab60-201324a62fb8",
    "deepnote_to_be_reexecuted": false,
    "source_hash": "adfa8b1",
    "execution_start": 1636487775231,
    "execution_millis": 28,
    "deepnote_cell_type": "code"
   },
   "source": "df_characters = pd.read_csv(\"/work/socialgraph-witcher-analysis/data/characters.csv\")\ndf_characters.head()",
   "execution_count": 41,
   "outputs": [
    {
     "output_type": "execute_result",
     "execution_count": 41,
     "data": {
      "application/vnd.deepnote.dataframe.v2+json": {
       "row_count": 5,
       "column_count": 2,
       "columns": [
        {
         "name": "pageid",
         "dtype": "int64",
         "stats": {
          "unique_count": 5,
          "nan_count": 0,
          "min": "2210",
          "max": "53882",
          "histogram": [
           {
            "bin_start": 2210,
            "bin_end": 7377.2,
            "count": 3
           },
           {
            "bin_start": 7377.2,
            "bin_end": 12544.4,
            "count": 1
           },
           {
            "bin_start": 12544.4,
            "bin_end": 17711.6,
            "count": 0
           },
           {
            "bin_start": 17711.6,
            "bin_end": 22878.8,
            "count": 0
           },
           {
            "bin_start": 22878.8,
            "bin_end": 28046,
            "count": 0
           },
           {
            "bin_start": 28046,
            "bin_end": 33213.2,
            "count": 0
           },
           {
            "bin_start": 33213.2,
            "bin_end": 38380.4,
            "count": 0
           },
           {
            "bin_start": 38380.4,
            "bin_end": 43547.6,
            "count": 0
           },
           {
            "bin_start": 43547.6,
            "bin_end": 48714.799999999996,
            "count": 0
           },
           {
            "bin_start": 48714.799999999996,
            "bin_end": 53882,
            "count": 1
           }
          ]
         }
        },
        {
         "name": "title",
         "dtype": "object",
         "stats": {
          "unique_count": 5,
          "nan_count": 0,
          "categories": [
           {
            "name": "Innkeeper",
            "count": 1
           },
           {
            "name": "The Witcher journal character entries",
            "count": 1
           },
           {
            "name": "3 others",
            "count": 3
           }
          ]
         }
        },
        {
         "name": "_deepnote_index_column",
         "dtype": "int64"
        }
       ],
       "rows_top": [
        {
         "pageid": 8046,
         "title": "Innkeeper",
         "_deepnote_index_column": 0
        },
        {
         "pageid": 5069,
         "title": "The Witcher journal character entries",
         "_deepnote_index_column": 1
        },
        {
         "pageid": 2478,
         "title": "Abigail",
         "_deepnote_index_column": 2
        },
        {
         "pageid": 53882,
         "title": "Adalbert (soldier)",
         "_deepnote_index_column": 3
        },
        {
         "pageid": 2210,
         "title": "Adam (Murky Waters)",
         "_deepnote_index_column": 4
        }
       ],
       "rows_bottom": null
      },
      "text/plain": "   pageid                                  title\n0    8046                              Innkeeper\n1    5069  The Witcher journal character entries\n2    2478                                Abigail\n3   53882                     Adalbert (soldier)\n4    2210                    Adam (Murky Waters)",
      "text/html": "<div>\n<style scoped>\n    .dataframe tbody tr th:only-of-type {\n        vertical-align: middle;\n    }\n\n    .dataframe tbody tr th {\n        vertical-align: top;\n    }\n\n    .dataframe thead th {\n        text-align: right;\n    }\n</style>\n<table border=\"1\" class=\"dataframe\">\n  <thead>\n    <tr style=\"text-align: right;\">\n      <th></th>\n      <th>pageid</th>\n      <th>title</th>\n    </tr>\n  </thead>\n  <tbody>\n    <tr>\n      <th>0</th>\n      <td>8046</td>\n      <td>Innkeeper</td>\n    </tr>\n    <tr>\n      <th>1</th>\n      <td>5069</td>\n      <td>The Witcher journal character entries</td>\n    </tr>\n    <tr>\n      <th>2</th>\n      <td>2478</td>\n      <td>Abigail</td>\n    </tr>\n    <tr>\n      <th>3</th>\n      <td>53882</td>\n      <td>Adalbert (soldier)</td>\n    </tr>\n    <tr>\n      <th>4</th>\n      <td>2210</td>\n      <td>Adam (Murky Waters)</td>\n    </tr>\n  </tbody>\n</table>\n</div>"
     },
     "metadata": {}
    }
   ]
  },
  {
   "cell_type": "code",
   "metadata": {
    "tags": [],
    "cell_id": "00002-f46e23f3-d4a1-48bc-8b93-2770a232b3eb",
    "deepnote_to_be_reexecuted": false,
    "source_hash": "5b978cc9",
    "execution_start": 1636486761357,
    "execution_millis": 107810,
    "deepnote_cell_type": "code"
   },
   "source": "baseurl = \"https://witcher.fandom.com/api.php?\"\naction = \"action=query\"\ncontent = \"prop=extracts&exlimit=1&explaintext\"\ndataformat =\"format=json\"\n\nfor t in df_characters['title']:\n    try:\n        title_name = t.replace(\" \", \"_\") #Ensure that whitespace -> underscores\n        title = f\"titles={title_name}\"\n        query = \"{}{}&{}&{}&{}\".format(baseurl, action, content, title, dataformat)\n\n        response = urllib.request.urlopen(query)\n        source = response.read()\n        wikitext = source.decode('UTF-8')   \n        wiki_json = json.loads(wikitext)\n        page = list(wiki_json['query']['pages'].keys())[0]\n        clean_text = wiki_json['query']['pages'][page]['extract']\n        clean_text = clean_text.replace('\\n', ' ').replace('\\t', '')\n        final_text = re.sub(r'\\=\\=(.*?)\\=\\=', r'', clean_text).replace('=', '')\n        filename = title_name +'.txt'\n        \n        savepath = 'data_clean_text'\n        completeName = os.path.join(savepath, filename)\n        \n        with open(completeName, 'w') as f:\n            f.write(final_text)\n    except:\n        print(t)",
   "execution_count": 21,
   "outputs": [
    {
     "name": "stdout",
     "text": "Eredin Breacc Glas\n",
     "output_type": "stream"
    }
   ]
  },
  {
   "cell_type": "code",
   "metadata": {
    "tags": [],
    "cell_id": "00006-466824ca-6547-4bfa-aa2d-9d9f6dc805bb",
    "deepnote_to_be_reexecuted": false,
    "source_hash": "fe99061",
    "execution_start": 1636487557616,
    "execution_millis": 129,
    "deepnote_cell_type": "code"
   },
   "source": "#Handle Eredin\ntitle_name = \"Eredin_Breacc_Glas\"#Ensure that whitespace -> underscores\ntitle = \"titles=Eredin_Br%C3%A9acc_Glas\" \nquery = \"{}{}&{}&{}&{}\".format(baseurl, action, content, title, dataformat)\n\nresponse = urllib.request.urlopen(query)\nsource = response.read()\nwikitext = source.decode('UTF-8')   \nwiki_json = json.loads(wikitext)\npage = list(wiki_json['query']['pages'].keys())[0]\nclean_text = wiki_json['query']['pages'][page]['extract']\nclean_text = clean_text.replace('\\n', ' ').replace('\\t', '')\nfinal_text = re.sub(r'\\=\\=(.*?)\\=\\=', r'', clean_text).replace('=', '')\nfilename = title_name +'.txt'\n\nsavepath = 'data_clean_text'\ncompleteName = os.path.join(savepath, filename)\n\nwith open(completeName, 'w') as f:\n    f.write(final_text)",
   "execution_count": 34,
   "outputs": []
  },
  {
   "cell_type": "code",
   "metadata": {
    "tags": [],
    "cell_id": "00006-50b62545-066d-482e-b9d3-dae65617b928",
    "deepnote_to_be_reexecuted": false,
    "source_hash": "e92b1efd",
    "execution_start": 1636487595503,
    "execution_millis": 368,
    "deepnote_cell_type": "code"
   },
   "source": "corpus_root = r'data_clean_text'\ntxt_list = ['Radovid_V.txt']\nwordlists = PlaintextCorpusReader(corpus_root, txt_list)\n#wordlists.fileids()\nnltk_texts = nltk.Text(wordlists.words())\nnltk_texts",
   "execution_count": 36,
   "outputs": [
    {
     "output_type": "execute_result",
     "execution_count": 36,
     "data": {
      "text/plain": "<Text: Radovid V the Stern ( Polish : Radowid...>"
     },
     "metadata": {}
    }
   ]
  },
  {
   "cell_type": "code",
   "metadata": {
    "tags": [],
    "cell_id": "00007-b47f3e69-5bf2-4197-8309-6ac5293fe421",
    "deepnote_to_be_reexecuted": false,
    "source_hash": "b349cc2c",
    "execution_start": 1636487704002,
    "execution_millis": 1,
    "deepnote_cell_type": "code"
   },
   "source": "nltk_texts[220:250]",
   "execution_count": 40,
   "outputs": [
    {
     "output_type": "execute_result",
     "execution_count": 40,
     "data": {
      "text/plain": "['and',\n 'dominated',\n 'and',\n 'demeaned',\n 'him',\n 'throughout',\n 'his',\n 'youth',\n '.',\n 'Radovid',\n 'was',\n 'born',\n 'in',\n '1255',\n 'in',\n 'Tretogor',\n 'to',\n 'the',\n 'royal',\n 'pair',\n ',',\n 'King',\n 'Vizimir',\n 'II',\n 'and',\n 'Queen',\n 'Hedwig',\n 'of',\n 'Malleore',\n ',']"
     },
     "metadata": {}
    }
   ]
  },
  {
   "cell_type": "code",
   "metadata": {
    "tags": [],
    "cell_id": "00009-0783784f-d343-4e84-a894-92a46c7d6f0e",
    "deepnote_cell_type": "code"
   },
   "source": "",
   "execution_count": null,
   "outputs": []
  },
  {
   "cell_type": "markdown",
   "source": "<a style='text-decoration:none;line-height:16px;display:flex;color:#5B5B62;padding:10px;justify-content:end;' href='https://deepnote.com?utm_source=created-in-deepnote-cell&projectId=061c6de9-714b-4aa5-8dca-7fde3082e296' target=\"_blank\">\n<img alt='Created in deepnote.com' style='display:inline;max-height:16px;margin:0px;margin-right:7.5px;' src='data:image/svg+xml;base64,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' > </img>\nCreated in <span style='font-weight:600;margin-left:4px;'>Deepnote</span></a>",
   "metadata": {
    "tags": [],
    "created_in_deepnote_cell": true,
    "deepnote_cell_type": "markdown"
   }
  }
 ],
 "nbformat": 4,
 "nbformat_minor": 2,
 "metadata": {
  "orig_nbformat": 2,
  "deepnote": {
   "is_reactive": false
  },
  "deepnote_notebook_id": "a970c2f8-6865-4fc7-9aab-cc5824cc0aa6",
  "deepnote_execution_queue": []
 }
}
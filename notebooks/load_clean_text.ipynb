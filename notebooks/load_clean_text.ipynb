{
 "cells": [
  {
   "cell_type": "code",
   "metadata": {
    "tags": [],
    "cell_id": "00000-0f9307f7-91bb-4ed7-b025-8d34d399ec9a",
    "deepnote_to_be_reexecuted": false,
    "source_hash": "62df062d",
    "execution_start": 1637755983705,
    "execution_millis": 3,
    "deepnote_cell_type": "code"
   },
   "source": "import pandas as pd\nimport re\nimport urllib.request\nimport json\nimport networkx as nx\nimport matplotlib.pyplot as plt\nimport requests\nimport os.path\nimport nltk\nfrom nltk.corpus import PlaintextCorpusReader\nfrom nltk.tokenize import WordPunctTokenizer\nfrom nltk.stem import WordNetLemmatizer ",
   "execution_count": null,
   "outputs": []
  },
  {
   "cell_type": "code",
   "metadata": {
    "tags": [],
    "cell_id": "00001-b1a43146-c3be-4248-91cc-d233338edfe2",
    "deepnote_to_be_reexecuted": false,
    "source_hash": "f5b47796",
    "execution_start": 1637756985533,
    "execution_millis": 3,
    "deepnote_output_heights": [
     null,
     21
    ],
    "deepnote_cell_type": "code"
   },
   "source": "from nltk.corpus import stopwords\nnltk.download('stopwords')",
   "execution_count": null,
   "outputs": [
    {
     "name": "stderr",
     "text": "[nltk_data] Downloading package stopwords to /root/nltk_data...\n[nltk_data]   Unzipping corpora/stopwords.zip.\n",
     "output_type": "stream"
    },
    {
     "output_type": "execute_result",
     "execution_count": 39,
     "data": {
      "text/plain": "True"
     },
     "metadata": {}
    }
   ]
  },
  {
   "cell_type": "code",
   "metadata": {
    "tags": [],
    "cell_id": "00002-2ccab9ab-631e-47a0-aaf5-d32aaf249ed7",
    "deepnote_to_be_reexecuted": false,
    "source_hash": "2b0d0c48",
    "execution_start": 1637757896449,
    "execution_millis": 374,
    "deepnote_output_heights": [
     null,
     21
    ],
    "deepnote_cell_type": "code"
   },
   "source": "nltk.download('wordnet')",
   "execution_count": null,
   "outputs": [
    {
     "name": "stderr",
     "text": "[nltk_data] Downloading package wordnet to /root/nltk_data...\n[nltk_data]   Unzipping corpora/wordnet.zip.\n",
     "output_type": "stream"
    },
    {
     "output_type": "execute_result",
     "execution_count": 55,
     "data": {
      "text/plain": "True"
     },
     "metadata": {}
    }
   ]
  },
  {
   "cell_type": "code",
   "metadata": {
    "tags": [],
    "cell_id": "00002-efa90acb-568e-4221-8903-712a48668461",
    "deepnote_to_be_reexecuted": false,
    "source_hash": "75a706ba",
    "execution_start": 1637754467255,
    "execution_millis": 351,
    "deepnote_cell_type": "code"
   },
   "source": "df_characters_unclean = pd.read_csv(\"/work/socialgraph-witcher-analysis/data/unclean_characters.csv\")\ndf_characters_unclean.loc[125:134]",
   "execution_count": null,
   "outputs": [
    {
     "output_type": "execute_result",
     "execution_count": 2,
     "data": {
      "application/vnd.deepnote.dataframe.v2+json": {
       "row_count": 10,
       "column_count": 2,
       "columns": [
        {
         "name": "pageid",
         "dtype": "int64",
         "stats": {
          "unique_count": 10,
          "nan_count": 0,
          "min": "2490",
          "max": "11206",
          "histogram": [
           {
            "bin_start": 2490,
            "bin_end": 3361.6,
            "count": 5
           },
           {
            "bin_start": 3361.6,
            "bin_end": 4233.2,
            "count": 1
           },
           {
            "bin_start": 4233.2,
            "bin_end": 5104.8,
            "count": 1
           },
           {
            "bin_start": 5104.8,
            "bin_end": 5976.4,
            "count": 0
           },
           {
            "bin_start": 5976.4,
            "bin_end": 6848,
            "count": 0
           },
           {
            "bin_start": 6848,
            "bin_end": 7719.6,
            "count": 0
           },
           {
            "bin_start": 7719.6,
            "bin_end": 8591.2,
            "count": 1
           },
           {
            "bin_start": 8591.2,
            "bin_end": 9462.8,
            "count": 1
           },
           {
            "bin_start": 9462.8,
            "bin_end": 10334.400000000001,
            "count": 0
           },
           {
            "bin_start": 10334.400000000001,
            "bin_end": 11206,
            "count": 1
           }
          ]
         }
        },
        {
         "name": "title",
         "dtype": "object",
         "stats": {
          "unique_count": 10,
          "nan_count": 0,
          "categories": [
           {
            "name": "Prostitute",
            "count": 1
           },
           {
            "name": "Queen of the Night",
            "count": 1
           },
           {
            "name": "8 others",
            "count": 8
           }
          ]
         }
        },
        {
         "name": "_deepnote_index_column",
         "dtype": "int64"
        }
       ],
       "rows_top": [
        {
         "pageid": 3486,
         "title": "Prostitute",
         "_deepnote_index_column": 125
        },
        {
         "pageid": 2573,
         "title": "Queen of the Night",
         "_deepnote_index_column": 126
        },
        {
         "pageid": 4789,
         "title": "Radovid V",
         "_deepnote_index_column": 127
        },
        {
         "pageid": 8038,
         "title": "Ramerot",
         "_deepnote_index_column": 128
        },
        {
         "pageid": 2570,
         "title": "Ramsmeat",
         "_deepnote_index_column": 129
        },
        {
         "pageid": 11206,
         "title": "Raven",
         "_deepnote_index_column": 130
        },
        {
         "pageid": 2490,
         "title": "Rayla",
         "_deepnote_index_column": 131
        },
        {
         "pageid": 2571,
         "title": "Raymond Maarloeve",
         "_deepnote_index_column": 132
        },
        {
         "pageid": 2664,
         "title": "Ren Grouver",
         "_deepnote_index_column": 133
        },
        {
         "pageid": 8874,
         "title": "Resolute girl",
         "_deepnote_index_column": 134
        }
       ],
       "rows_bottom": null
      },
      "text/plain": "     pageid               title\n125    3486          Prostitute\n126    2573  Queen of the Night\n127    4789           Radovid V\n128    8038             Ramerot\n129    2570            Ramsmeat\n130   11206               Raven\n131    2490               Rayla\n132    2571   Raymond Maarloeve\n133    2664         Ren Grouver\n134    8874       Resolute girl",
      "text/html": "<div>\n<style scoped>\n    .dataframe tbody tr th:only-of-type {\n        vertical-align: middle;\n    }\n\n    .dataframe tbody tr th {\n        vertical-align: top;\n    }\n\n    .dataframe thead th {\n        text-align: right;\n    }\n</style>\n<table border=\"1\" class=\"dataframe\">\n  <thead>\n    <tr style=\"text-align: right;\">\n      <th></th>\n      <th>pageid</th>\n      <th>title</th>\n    </tr>\n  </thead>\n  <tbody>\n    <tr>\n      <th>125</th>\n      <td>3486</td>\n      <td>Prostitute</td>\n    </tr>\n    <tr>\n      <th>126</th>\n      <td>2573</td>\n      <td>Queen of the Night</td>\n    </tr>\n    <tr>\n      <th>127</th>\n      <td>4789</td>\n      <td>Radovid V</td>\n    </tr>\n    <tr>\n      <th>128</th>\n      <td>8038</td>\n      <td>Ramerot</td>\n    </tr>\n    <tr>\n      <th>129</th>\n      <td>2570</td>\n      <td>Ramsmeat</td>\n    </tr>\n    <tr>\n      <th>130</th>\n      <td>11206</td>\n      <td>Raven</td>\n    </tr>\n    <tr>\n      <th>131</th>\n      <td>2490</td>\n      <td>Rayla</td>\n    </tr>\n    <tr>\n      <th>132</th>\n      <td>2571</td>\n      <td>Raymond Maarloeve</td>\n    </tr>\n    <tr>\n      <th>133</th>\n      <td>2664</td>\n      <td>Ren Grouver</td>\n    </tr>\n    <tr>\n      <th>134</th>\n      <td>8874</td>\n      <td>Resolute girl</td>\n    </tr>\n  </tbody>\n</table>\n</div>"
     },
     "metadata": {}
    }
   ]
  },
  {
   "cell_type": "code",
   "metadata": {
    "tags": [],
    "cell_id": "00003-6608db0b-7e20-403c-939c-11adbf89c30d",
    "deepnote_to_be_reexecuted": false,
    "source_hash": "510d820",
    "execution_start": 1637754471987,
    "execution_millis": 1,
    "deepnote_output_heights": [
     21
    ],
    "deepnote_cell_type": "code"
   },
   "source": "len(df_characters_unclean)",
   "execution_count": null,
   "outputs": [
    {
     "output_type": "execute_result",
     "execution_count": 3,
     "data": {
      "text/plain": "836"
     },
     "metadata": {}
    }
   ]
  },
  {
   "cell_type": "code",
   "metadata": {
    "tags": [],
    "cell_id": "00004-4e475d72-bd9c-4695-87c9-4adb616a4194",
    "deepnote_to_be_reexecuted": false,
    "source_hash": "68b56f5a",
    "execution_start": 1637667845801,
    "deepnote_cell_type": "code"
   },
   "source": "#REGEX\n\n#Removes everything including and after the \"Associated Quests\" header until the next header.\n# \\=\\=?\\= Associated Quests \\=\\=?\\=.*?[^\\=]+\n\n#Removes other headers.\n# \\=\\=(.*?)\\=\\=",
   "execution_count": null,
   "outputs": []
  },
  {
   "cell_type": "code",
   "metadata": {
    "tags": [],
    "cell_id": "00014-a3a342c3-aa5c-41b6-9abe-d9efcee22388",
    "deepnote_to_be_reexecuted": false,
    "source_hash": "15bc858b",
    "execution_start": 1637667858915,
    "execution_millis": 95132,
    "deepnote_cell_type": "code"
   },
   "source": "#Saving data with weird é and ï in txt file names\n\nbaseurl = \"https://witcher.fandom.com/api.php?\"\naction = \"action=query\"\ncontent = \"prop=extracts&exlimit=1&explaintext\"\ndataformat =\"format=json\"\n\nfor t in df_characters_unclean['title']:\n    try:\n        title_name = t.replace(\" \", \"_\") #Ensure that whitespace -> underscores\n        title_string = str(title_name.encode(encoding='UTF-8',errors='strict'))\n        title_string = title_string[:-1].replace(\"b\\'\", \"\").replace(\"\\\\x\", \"%\").replace(\"b\\\"\", \"\")\n        title = f\"titles={title_string}\"\n        query = \"{}{}&{}&{}&{}\".format(baseurl, action, content, title, dataformat)\n\n        response = urllib.request.urlopen(query)\n        source = response.read()\n        wikitext = source.decode('UTF-8')   \n        wiki_json = json.loads(wikitext)\n        page = list(wiki_json['query']['pages'].keys())[0]\n        clean_text = wiki_json['query']['pages'][page]['extract']\n        clean_text = clean_text.replace('\\n', ' ').replace('\\t', '')\n        clean_text = re.sub(r'\\=\\=?\\= Associated Quests \\=\\=?\\=.*?[^\\=]+', r'', clean_text)\n        final_text = re.sub(r'\\=\\=(.*?)\\=\\=', r'', clean_text).replace('=', '')\n        filename = title_name +'.txt'\n        \n        savepath = 'data_clean_texts'\n        completeName = os.path.join(savepath, filename)\n        \n        with open(completeName, 'w') as f:\n            f.write(final_text)\n    except:\n        print(t)",
   "execution_count": null,
   "outputs": []
  },
  {
   "cell_type": "markdown",
   "source": "# Nedenstående tager ca. 25 min at køre!",
   "metadata": {
    "tags": [],
    "cell_id": "00007-6428961c-4a75-4f07-9d4f-277424a176ff",
    "deepnote_cell_type": "markdown"
   }
  },
  {
   "cell_type": "code",
   "metadata": {
    "tags": [],
    "cell_id": "00005-4d6e52a4-f830-42d0-8e1a-027d297b0dcc",
    "deepnote_to_be_reexecuted": false,
    "source_hash": "1fc501d4",
    "execution_start": 1637758197081,
    "execution_millis": 1704559,
    "deepnote_cell_type": "code"
   },
   "source": "#Completely clean text versions\n\ntk = WordPunctTokenizer()\nlemmatizer = WordNetLemmatizer()\n\nfor character_name in df_characters_unclean[\"title\"]:\n    character_file_name = character_name.replace(' ','_') + \".txt\"\n\n    with open(f\"data_clean_texts/{character_file_name}\") as f:\n        contents = str(f.readlines())\n        tokens = tk.tokenize(contents)\n\n        # remove stopwords\n        tokens_without_sw = [word for word in tokens if not word in stopwords.words()]\n\n        #remove punctuation\n        tokens_no_punct= [word for word in tokens_without_sw if word.isalnum()]\n\n        #lower everything\n        tokens_lower = [word.lower() for word in tokens_no_punct]\n\n        #Remove names and name parts (ie. if only first name is written in the text)\n        #Regex splits at both ' and white spaces in the name.\n        for name in df_characters_unclean['title'].values:\n            name = name.lower()\n            name_split = re.split('[\\'\\s]',name)\n            for name_part in name_split:\n                if name_part in tokens_lower:\n                    try:\n                        while True:\n                            tokens_lower.remove(name_part)\n                    except ValueError:\n                        pass\n        \n        #Lemmatize words\n        tokens_lemma = [lemmatizer.lemmatize(word) for word in tokens_lower]\n\n        #Convert to text\n        cleaned_text = nltk.Text(tokens_lemma)\n        \n        #Save to file\n        #new_file = open(f\"data_all_clean/{character_name}.txt\", \"w\")\n        #for i in range(len(cleaned_text)):\n        #    new_file.write(f\"{cleaned_text[i]} \")\n        #new_file.close()",
   "execution_count": null,
   "outputs": []
  },
  {
   "cell_type": "code",
   "metadata": {
    "tags": [],
    "cell_id": "00007-6768ca15-12f1-40af-bdbd-868487a5a17d",
    "deepnote_to_be_reexecuted": false,
    "source_hash": "ee75e3f2",
    "execution_start": 1637757905797,
    "execution_millis": 4592,
    "deepnote_output_heights": [
     21.1875
    ],
    "deepnote_cell_type": "code"
   },
   "source": "#Test\n\ntk = WordPunctTokenizer()\nlemmatizer = WordNetLemmatizer()\n\ncharacter_file_name = \"Éibhear_Hattori.txt\"\n\nwith open(f\"data_clean_texts/{character_file_name}\") as f:\n    contents = str(f.readlines())\n    tokens = tk.tokenize(contents)\n\n    # remove stopwords\n    tokens_without_sw = [word for word in tokens if not word in stopwords.words()]\n\n    #remove punctuation\n    tokens_no_punct= [word for word in tokens_without_sw if word.isalnum()]\n\n    #lower everything\n    tokens_lower = [word.lower() for word in tokens_no_punct]\n\n    #Remove names and name parts (ie. if only first name is written in the text)\n    #Regex splits at both ' and white spaces in the name.\n    for name in df_characters_unclean['title'].values:\n        name = name.lower()\n        name_split = re.split('[\\'\\s]',name)\n        for name_part in name_split:\n            if name_part in tokens_lower:\n                try:\n                    while True:\n                        tokens_lower.remove(name_part)\n                except ValueError:\n                    pass\n    \n    #Lemmatize words\n    tokens_lemma = [lemmatizer.lemmatize(word) for word in tokens_lower]\n\n    #Convert to text\n    cleaned_text = nltk.Text(tokens_lemma)\n    print(cleaned_text)",
   "execution_count": null,
   "outputs": [
    {
     "name": "stdout",
     "text": "<Text: living house glory lane district novigrad around 1272...>\n",
     "output_type": "stream"
    }
   ]
  },
  {
   "cell_type": "code",
   "metadata": {
    "tags": [],
    "cell_id": "00009-d0584e67-38f0-4372-8e4a-44b0bd57b6de",
    "deepnote_cell_type": "code"
   },
   "source": "",
   "execution_count": null,
   "outputs": []
  },
  {
   "cell_type": "markdown",
   "source": "<a style='text-decoration:none;line-height:16px;display:flex;color:#5B5B62;padding:10px;justify-content:end;' href='https://deepnote.com?utm_source=created-in-deepnote-cell&projectId=061c6de9-714b-4aa5-8dca-7fde3082e296' target=\"_blank\">\n<img alt='Created in deepnote.com' style='display:inline;max-height:16px;margin:0px;margin-right:7.5px;' src='data:image/svg+xml;base64,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' > </img>\nCreated in <span style='font-weight:600;margin-left:4px;'>Deepnote</span></a>",
   "metadata": {
    "tags": [],
    "created_in_deepnote_cell": true,
    "deepnote_cell_type": "markdown"
   }
  }
 ],
 "nbformat": 4,
 "nbformat_minor": 2,
 "metadata": {
  "orig_nbformat": 2,
  "deepnote": {
   "is_reactive": false
  },
  "deepnote_notebook_id": "a970c2f8-6865-4fc7-9aab-cc5824cc0aa6",
  "deepnote_execution_queue": []
 }
}
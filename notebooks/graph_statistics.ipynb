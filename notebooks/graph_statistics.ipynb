{
 "cells": [
  {
   "cell_type": "code",
   "metadata": {
    "tags": [],
    "cell_id": "00000-9ec7b577-f5ab-48ea-97f6-0df8d988deea",
    "deepnote_to_be_reexecuted": false,
    "source_hash": "1d2a8c25",
    "execution_start": 1637138361048,
    "execution_millis": 837,
    "deepnote_cell_type": "code"
   },
   "source": "import networkx as nx\nimport pickle\nimport numpy as np\nimport matplotlib.pyplot as plt",
   "outputs": [],
   "execution_count": null
  },
  {
   "cell_type": "code",
   "metadata": {
    "tags": [],
    "cell_id": "00001-7db1c15a-9d7b-4cf7-8e19-aadcd650e27a",
    "deepnote_to_be_reexecuted": false,
    "source_hash": "d950d771",
    "execution_start": 1637138361893,
    "execution_millis": 5,
    "deepnote_cell_type": "code"
   },
   "source": "with open(\"WG.pickle\", 'rb') as f:\n    G = pickle.load(f)",
   "outputs": [],
   "execution_count": null
  },
  {
   "cell_type": "code",
   "metadata": {
    "tags": [],
    "cell_id": "00002-41e2a2e4-554d-4418-8b2c-ca36dc9f2307",
    "deepnote_to_be_reexecuted": false,
    "source_hash": "dd68c3b5",
    "execution_start": 1636813430113,
    "execution_millis": 0,
    "deepnote_cell_type": "code"
   },
   "source": "Gcc = sorted(nx.weakly_connected_components(G), key=len, reverse=True)\nG = G.subgraph(Gcc[0])",
   "execution_count": null,
   "outputs": []
  },
  {
   "cell_type": "code",
   "metadata": {
    "tags": [],
    "cell_id": "00003-fedccf70-8a2e-4fdf-9fdb-b02f67aa794b",
    "deepnote_to_be_reexecuted": false,
    "source_hash": "50f3a11e",
    "execution_start": 1637138820503,
    "execution_millis": 4,
    "deepnote_cell_type": "code"
   },
   "source": "nodes = list(G.nodes())",
   "outputs": [],
   "execution_count": null
  },
  {
   "cell_type": "code",
   "metadata": {
    "tags": [],
    "cell_id": "00004-e39d8796-5331-4755-b40b-616e506a2f70",
    "deepnote_to_be_reexecuted": false,
    "source_hash": "c64755f6",
    "execution_start": 1637138873101,
    "execution_millis": 1,
    "deepnote_cell_type": "code"
   },
   "source": "sub = list(G.neighbors(nodes[10]))",
   "outputs": [],
   "execution_count": null
  },
  {
   "cell_type": "code",
   "metadata": {
    "tags": [],
    "cell_id": "00005-59b03d9a-d000-4ad5-af0e-4f335772b90b",
    "deepnote_to_be_reexecuted": false,
    "source_hash": "240ebd98",
    "execution_start": 1637138874297,
    "execution_millis": 2,
    "deepnote_cell_type": "code"
   },
   "source": "H = G.subgraph(sub)",
   "outputs": [],
   "execution_count": null
  },
  {
   "cell_type": "code",
   "source": "H.nodes(data=True)[\"Buse\"][\"color\"] = \"test\"",
   "metadata": {
    "tags": [],
    "cell_id": "00006-6ea73137-7dec-4392-85f7-525abdf6b40a",
    "deepnote_to_be_reexecuted": false,
    "source_hash": "f6fe83b4",
    "execution_start": 1637139830571,
    "execution_millis": 2,
    "deepnote_cell_type": "code"
   },
   "outputs": [],
   "execution_count": null
  },
  {
   "cell_type": "code",
   "source": "for node in H.nodes():\n    print(node)",
   "metadata": {
    "tags": [],
    "cell_id": "00007-370da1d2-fa5c-4fed-b390-960ca4b73ad2",
    "deepnote_to_be_reexecuted": false,
    "source_hash": "b3726a8",
    "execution_start": 1637139593009,
    "execution_millis": 8,
    "deepnote_cell_type": "code"
   },
   "outputs": [
    {
     "name": "stdout",
     "text": "Fringilla Vigo\nBuse\nRamerot\nCorbin\n",
     "output_type": "stream"
    }
   ],
   "execution_count": null
  },
  {
   "cell_type": "code",
   "metadata": {
    "tags": [],
    "cell_id": "00006-d3f4cc9f-0121-4aa4-9bfb-ca01c1486fa1",
    "deepnote_to_be_reexecuted": false,
    "source_hash": "fa3d6773",
    "execution_start": 1636813641658,
    "execution_millis": 528,
    "deepnote_cell_type": "code"
   },
   "source": "plt.figure(figsize=(15,10))\nplt.hist(np.log(degrees))\nplt.savefig('degree_dist.jpg',bbox_inches='tight', dpi=150)",
   "execution_count": null,
   "outputs": [
    {
     "data": {
      "text/plain": "<Figure size 1080x720 with 1 Axes>",
      "image/png": "[encoded data removed]"
     },
     "metadata": {
      "needs_background": "light",
      "image/png": {
       "width": 877,
       "height": 575
      }
     },
     "output_type": "display_data"
    }
   ]
  },
  {
   "cell_type": "code",
   "metadata": {
    "tags": [],
    "cell_id": "00008-e544572f-7b07-436f-a8ed-93301d111532",
    "deepnote_cell_type": "code"
   },
   "source": "",
   "execution_count": null,
   "outputs": []
  },
  {
   "cell_type": "markdown",
   "source": "<a style='text-decoration:none;line-height:16px;display:flex;color:#5B5B62;padding:10px;justify-content:end;' href='https://deepnote.com?utm_source=created-in-deepnote-cell&projectId=061c6de9-714b-4aa5-8dca-7fde3082e296' target=\"_blank\">\n<img alt='Created in deepnote.com' style='display:inline;max-height:16px;margin:0px;margin-right:7.5px;' src='data:image/svg+xml;base64,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' > </img>\nCreated in <span style='font-weight:600;margin-left:4px;'>Deepnote</span></a>",
   "metadata": {
    "tags": [],
    "created_in_deepnote_cell": true,
    "deepnote_cell_type": "markdown"
   }
  }
 ],
 "nbformat": 4,
 "nbformat_minor": 2,
 "metadata": {
  "orig_nbformat": 2,
  "deepnote": {
   "is_reactive": false
  },
  "deepnote_notebook_id": "c052c726-c776-4ea0-aa80-8deb4abd0318",
  "deepnote_execution_queue": []
 }
}
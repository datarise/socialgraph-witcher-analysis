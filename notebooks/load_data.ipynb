{
 "cells": [
  {
   "cell_type": "code",
   "metadata": {
    "tags": [],
    "cell_id": "00000-7fc99b50-eab4-43fe-9a2e-c25aa2ff5158",
    "deepnote_to_be_reexecuted": false,
    "source_hash": "40e70e7d",
    "execution_start": 1635932845602,
    "execution_millis": 5,
    "deepnote_cell_type": "code"
   },
   "source": "import pandas as pd\nimport re\nimport urllib.request\nimport json\nimport networkx as nx\nimport matplotlib.pyplot as plt\nimport requests\nimport os.path",
   "execution_count": 151,
   "outputs": []
  },
  {
   "cell_type": "code",
   "source": "# Witcher 1 \nimport requests\n\nS = requests.Session()\n\nURL = \"https://witcher.fandom.com/api.php\"\n\n\nPARAMS = {\n    \"action\": \"query\",\n    \"format\": \"json\",\n    \"list\": \"categorymembers\",\n    \"cmtitle\": \"Category:The_Witcher_characters\",\n    \"cmlimit\": 500,\n}\n\n\nR = S.get(url=URL, params=PARAMS)\nw1 = R.json()\n\n#PAGES = DATA[\"query\"][\"allpages\"]\n\n#for page in PAGES:\n#    print(page[\"title\"])",
   "metadata": {
    "tags": [],
    "cell_id": "00001-aed1e11b-8ccb-4dce-b29e-a1016d9f1075",
    "deepnote_to_be_reexecuted": false,
    "source_hash": "8159df97",
    "execution_start": 1635931544955,
    "execution_millis": 164,
    "deepnote_cell_type": "code"
   },
   "outputs": [],
   "execution_count": 76
  },
  {
   "cell_type": "code",
   "metadata": {
    "tags": [],
    "cell_id": "00002-da281355-a42e-448a-9d1c-8e655a17cd94",
    "deepnote_to_be_reexecuted": false,
    "source_hash": "94c39fa6",
    "execution_start": 1635931732972,
    "execution_millis": 115,
    "deepnote_cell_type": "code"
   },
   "source": "# Witcher 2 \nS = requests.Session()\n\nURL = \"https://witcher.fandom.com/api.php\"\n\n\nPARAMS = {\n    \"action\": \"query\",\n    \"format\": \"json\",\n    \"list\": \"categorymembers\",\n    \"cmtitle\": \"Category:The_Witcher_2_characters\",\n    \"cmlimit\": 500,\n}\n\n\nR = S.get(url=URL, params=PARAMS)\nw2 = R.json()\n\n#PAGES = DATA[\"query\"][\"allpages\"]\n\n#for page in PAGES:\n#    print(page[\"title\"])",
   "execution_count": 88,
   "outputs": []
  },
  {
   "cell_type": "code",
   "metadata": {
    "tags": [],
    "cell_id": "00003-51546955-67a1-4b64-8caf-e66376d1a4bb",
    "deepnote_to_be_reexecuted": false,
    "source_hash": "363e24b2",
    "execution_start": 1635931596324,
    "execution_millis": 138,
    "deepnote_cell_type": "code"
   },
   "source": "# Witcher 3 \nS = requests.Session()\n\nURL = \"https://witcher.fandom.com/api.php\"\n\n\nPARAMS = {\n    \"action\": \"query\",\n    \"format\": \"json\",\n    \"list\": \"categorymembers\",\n    \"cmtitle\": \"Category:The_Witcher_3_characters\",\n    \"cmlimit\": 500,\n}\n\n\nR = S.get(url=URL, params=PARAMS)\nw31 = R.json()\n\n#PAGES = DATA[\"query\"][\"allpages\"]\n\n#for page in PAGES:\n#    print(page[\"title\"])",
   "execution_count": 80,
   "outputs": []
  },
  {
   "cell_type": "code",
   "source": "# Witcher 3 \nS = requests.Session()\n\nURL = \"https://witcher.fandom.com/api.php\"\n\n\nPARAMS = {\n    \"action\": \"query\",\n    \"format\": \"json\",\n    \"list\": \"categorymembers\",\n    \"cmtitle\": \"Category:The_Witcher_3_characters\",\n    \"cmlimit\": 500,\n    \"cmcontinue\": w31[\"continue\"][\"cmcontinue\"],\n    \"continue\": w31[\"continue\"][\"continue\"]\n}\n\n\nR = S.get(url=URL, params=PARAMS)\nw32 = R.json()\n\n#PAGES = DATA[\"query\"][\"allpages\"]\n\n#for page in PAGES:\n#    print(page[\"title\"])",
   "metadata": {
    "tags": [],
    "cell_id": "00004-582245a3-21f1-47cb-bf7f-d34838f2507f",
    "deepnote_to_be_reexecuted": false,
    "source_hash": "7a60f41f",
    "execution_start": 1635931675483,
    "execution_millis": 137,
    "deepnote_cell_type": "code"
   },
   "outputs": [],
   "execution_count": 82
  },
  {
   "cell_type": "code",
   "metadata": {
    "tags": [],
    "cell_id": "00004-1ba2a218-2178-4b36-b33a-14406efc1ee9",
    "deepnote_to_be_reexecuted": false,
    "source_hash": "b64f529d",
    "execution_start": 1635932230492,
    "execution_millis": 7,
    "deepnote_cell_type": "code"
   },
   "source": "df = pd.DataFrame.from_dict(w1[\"query\"][\"categorymembers\"])\ndf = pd.concat([df, pd.DataFrame.from_dict(w2[\"query\"][\"categorymembers\"])], axis=0)\ndf = pd.concat([df, pd.DataFrame.from_dict(w31[\"query\"][\"categorymembers\"])], axis=0)\ndf = pd.concat([df, pd.DataFrame.from_dict(w32[\"query\"][\"categorymembers\"])], axis=0)\ndf.reset_index(inplace=True)\ndf = df[[\"pageid\",\"title\"]]",
   "execution_count": 125,
   "outputs": []
  },
  {
   "cell_type": "code",
   "source": "df = df.drop_duplicates([\"pageid\", \"title\"])",
   "metadata": {
    "tags": [],
    "cell_id": "00008-1920ba3f-2474-4bed-8ea9-fa851b8e8127",
    "deepnote_to_be_reexecuted": false,
    "source_hash": "ca91f1c2",
    "execution_start": 1635932271253,
    "execution_millis": 16870,
    "deepnote_cell_type": "code"
   },
   "outputs": [],
   "execution_count": 129
  },
  {
   "cell_type": "code",
   "source": "# Remove Category titles\ndf = df[~df['title'].str.contains(\"Category\")]",
   "metadata": {
    "tags": [],
    "cell_id": "00008-12a2efc4-ba0d-401d-89de-57cee52b4454",
    "deepnote_to_be_reexecuted": false,
    "source_hash": "525d8ff3",
    "execution_start": 1635932473773,
    "execution_millis": 2,
    "deepnote_cell_type": "code"
   },
   "outputs": [],
   "execution_count": 145
  },
  {
   "cell_type": "code",
   "source": "from unidecode import unidecode\n\nsomestring = \"àéêöhello\"\n\n#convert plain text to utf-8\n# replaced unicode by unidecode\nu = unidecode(somestring, \"utf-8\")\n\ndf[\"title\"] = df[\"title\"].apply(lambda x: unidecode(x, \"utf-8\"))",
   "metadata": {
    "tags": [],
    "cell_id": "00008-cefbabaa-8562-4a1f-b70b-d139e9f7618b",
    "deepnote_to_be_reexecuted": false,
    "source_hash": "15cc2692",
    "execution_start": 1635934109627,
    "execution_millis": 4,
    "deepnote_cell_type": "code"
   },
   "outputs": [
    {
     "name": "stderr",
     "text": "/shared-libs/python3.7/py-core/lib/python3.7/site-packages/ipykernel_launcher.py:9: SettingWithCopyWarning: \nA value is trying to be set on a copy of a slice from a DataFrame.\nTry using .loc[row_indexer,col_indexer] = value instead\n\nSee the caveats in the documentation: https://pandas.pydata.org/pandas-docs/stable/user_guide/indexing.html#returning-a-view-versus-a-copy\n  if __name__ == '__main__':\n",
     "output_type": "stream"
    }
   ],
   "execution_count": 198
  },
  {
   "cell_type": "code",
   "source": "df.to_csv(\"data\\characters.csv\", index=False)",
   "metadata": {
    "tags": [],
    "cell_id": "00009-a6d3caca-6df0-4db1-9aaa-90e82138ab5e",
    "deepnote_to_be_reexecuted": false,
    "source_hash": "6e472757",
    "execution_start": 1635934123800,
    "execution_millis": 6,
    "deepnote_cell_type": "code"
   },
   "outputs": [],
   "execution_count": 200
  },
  {
   "cell_type": "code",
   "source": "baseurl = \"https://witcher.fandom.com/api.php?\"\naction = \"action=query\"\ncontent = \"prop=revisions&rvprop=content&rvslots=*\"\ndataformat =\"format=json\"\n\nfor t in df['title']:\n    try:\n        t = t.replace(\" \", \"_\") #Ensure that whitespace -> underscores\n        titles = \"titles=\" + t\n        query = \"{}{}&{}&{}&{}\".format(baseurl, dataformat, action, content, titles)\n        response = urllib.request.urlopen(query)\n        data = response.read()\n        text = data.decode(\"UTF-8\")\n        text_json = json.loads(text)\n        final_text = text_json[\"query\"][\"pages\"][list(text_json[\"query\"][\"pages\"].keys())[0]][\"revisions\"][0][\"slots\"][\"main\"][\"*\"]\n        filename = t +'.txt'\n        \n        savepath = 'data'\n        completeName = os.path.join(savepath, filename)\n        \n        with open(completeName, 'w') as f:\n            f.write(final_text)\n    except:\n        print(t)",
   "metadata": {
    "tags": [],
    "cell_id": "00010-07f4fed8-c383-4f0a-ac83-9b389c1495c1",
    "deepnote_to_be_reexecuted": false,
    "source_hash": "7a687246",
    "execution_start": 1635934126353,
    "execution_millis": 100469,
    "deepnote_cell_type": "code"
   },
   "outputs": [
    {
     "name": "stdout",
     "text": "Cecil_Burdon\nEredin_Breacc_Glas\n",
     "output_type": "stream"
    }
   ],
   "execution_count": 189
  },
  {
   "cell_type": "code",
   "source": "t = \"Eredin_Breacc_Glas\"#Ensure that whitespace -> underscores\ntitles = \"titles=Eredin_Br%C3%A9acc_Glas\" \nquery = \"{}{}&{}&{}&{}\".format(baseurl, dataformat, action, content, titles)\nresponse = urllib.request.urlopen(query)\ndata = response.read()\ntext = data.decode(\"UTF-8\")\ntext_json = json.loads(text)\nfinal_text = text_json[\"query\"][\"pages\"][list(text_json[\"query\"][\"pages\"].keys())[0]][\"revisions\"][0][\"slots\"][\"main\"][\"*\"]\nfilename = t +'.txt'",
   "metadata": {
    "tags": [],
    "cell_id": "00012-1cee3194-2af0-4462-a58d-6aeaca96c8ef",
    "deepnote_to_be_reexecuted": false,
    "source_hash": "5d1a317e",
    "execution_start": 1635934910032,
    "execution_millis": 78,
    "deepnote_cell_type": "code"
   },
   "outputs": [],
   "execution_count": 214
  },
  {
   "cell_type": "code",
   "source": "savepath = 'data'\ncompleteName = os.path.join(savepath, filename)\n\nwith open(completeName, 'w') as f:\n    f.write(final_text)",
   "metadata": {
    "tags": [],
    "cell_id": "00012-61253bdb-d2f0-41fe-881e-83741e974009",
    "deepnote_to_be_reexecuted": false,
    "source_hash": "4bd05b02",
    "execution_start": 1635934912738,
    "execution_millis": 355,
    "deepnote_cell_type": "code"
   },
   "outputs": [],
   "execution_count": 215
  },
  {
   "cell_type": "code",
   "source": "savepath = 'data'\ncompleteName = os.path.join(savepath, filename)\n\nwith open(completeName, 'w') as f:\n    f.write(final_text)",
   "metadata": {
    "tags": [],
    "cell_id": "00012-de5a4372-eabd-40a0-ae2e-80a533cc755d",
    "deepnote_to_be_reexecuted": false,
    "source_hash": "257f116",
    "execution_start": 1635934607068,
    "execution_millis": 12,
    "deepnote_cell_type": "code"
   },
   "outputs": [
    {
     "output_type": "execute_result",
     "execution_count": 209,
     "data": {
      "application/vnd.deepnote.dataframe.v2+json": {
       "row_count": 1,
       "column_count": 2,
       "columns": [
        {
         "name": "pageid",
         "dtype": "int64",
         "stats": {
          "unique_count": 1,
          "nan_count": 0,
          "min": "9796",
          "max": "9796",
          "histogram": [
           {
            "bin_start": 9795.5,
            "bin_end": 9795.6,
            "count": 0
           },
           {
            "bin_start": 9795.6,
            "bin_end": 9795.7,
            "count": 0
           },
           {
            "bin_start": 9795.7,
            "bin_end": 9795.8,
            "count": 0
           },
           {
            "bin_start": 9795.8,
            "bin_end": 9795.9,
            "count": 0
           },
           {
            "bin_start": 9795.9,
            "bin_end": 9796,
            "count": 0
           },
           {
            "bin_start": 9796,
            "bin_end": 9796.1,
            "count": 1
           },
           {
            "bin_start": 9796.1,
            "bin_end": 9796.2,
            "count": 0
           },
           {
            "bin_start": 9796.2,
            "bin_end": 9796.3,
            "count": 0
           },
           {
            "bin_start": 9796.3,
            "bin_end": 9796.4,
            "count": 0
           },
           {
            "bin_start": 9796.4,
            "bin_end": 9796.5,
            "count": 0
           }
          ]
         }
        },
        {
         "name": "title",
         "dtype": "object",
         "stats": {
          "unique_count": 1,
          "nan_count": 0,
          "categories": [
           {
            "name": "Eredin Breacc Glas",
            "count": 1
           }
          ]
         }
        },
        {
         "name": "_deepnote_index_column",
         "dtype": "int64"
        }
       ],
       "rows_top": [
        {
         "pageid": 9796,
         "title": "Eredin Breacc Glas",
         "_deepnote_index_column": 234
        }
       ],
       "rows_bottom": null
      },
      "text/plain": "     pageid               title\n234    9796  Eredin Breacc Glas",
      "text/html": "<div>\n<style scoped>\n    .dataframe tbody tr th:only-of-type {\n        vertical-align: middle;\n    }\n\n    .dataframe tbody tr th {\n        vertical-align: top;\n    }\n\n    .dataframe thead th {\n        text-align: right;\n    }\n</style>\n<table border=\"1\" class=\"dataframe\">\n  <thead>\n    <tr style=\"text-align: right;\">\n      <th></th>\n      <th>pageid</th>\n      <th>title</th>\n    </tr>\n  </thead>\n  <tbody>\n    <tr>\n      <th>234</th>\n      <td>9796</td>\n      <td>Eredin Breacc Glas</td>\n    </tr>\n  </tbody>\n</table>\n</div>"
     },
     "metadata": {}
    }
   ],
   "execution_count": 209
  },
  {
   "cell_type": "code",
   "source": "",
   "metadata": {
    "tags": [],
    "cell_id": "00013-06b88cc1-4387-47e5-9898-78c9e6b7b2bb",
    "deepnote_cell_type": "code"
   },
   "outputs": [],
   "execution_count": null
  },
  {
   "cell_type": "markdown",
   "source": "<a style='text-decoration:none;line-height:16px;display:flex;color:#5B5B62;padding:10px;justify-content:end;' href='https://deepnote.com?utm_source=created-in-deepnote-cell&projectId=061c6de9-714b-4aa5-8dca-7fde3082e296' target=\"_blank\">\n<img alt='Created in deepnote.com' style='display:inline;max-height:16px;margin:0px;margin-right:7.5px;' src='data:image/svg+xml;base64,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' > </img>\nCreated in <span style='font-weight:600;margin-left:4px;'>Deepnote</span></a>",
   "metadata": {
    "tags": [],
    "created_in_deepnote_cell": true,
    "deepnote_cell_type": "markdown"
   }
  }
 ],
 "nbformat": 4,
 "nbformat_minor": 2,
 "metadata": {
  "orig_nbformat": 2,
  "deepnote": {
   "is_reactive": false
  },
  "deepnote_notebook_id": "4d63953b-528b-4750-be9b-bdb5fc91af15",
  "deepnote_execution_queue": []
 }
}